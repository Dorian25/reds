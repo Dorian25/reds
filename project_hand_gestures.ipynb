{
  "nbformat": 4,
  "nbformat_minor": 0,
  "metadata": {
    "colab": {
      "name": "Project1_REDS.ipynb",
      "provenance": [],
      "collapsed_sections": []
    },
    "kernelspec": {
      "name": "python3",
      "display_name": "Python 3"
    },
    "accelerator": "GPU"
  },
  "cells": [
    {
      "cell_type": "markdown",
      "metadata": {
        "id": "J4KaeE1VCDos"
      },
      "source": [
        "# **REsearch and methodology in Data Science**\n",
        "\n",
        "## Static and Dynamic Hand Gestures\n",
        "[source 1](https://zenodo.org/record/1319659#.X3OVgNgitQJ)\n",
        "\n",
        "[source 2](https://www.researchgate.net/publication/330429917_Online_Recognition_of_Incomplete_Gesture_Data_to_Interface_Collaborative_Robots)"
      ]
    },
    {
      "cell_type": "code",
      "metadata": {
        "id": "nLvfXj-7C0ch",
        "colab": {
          "base_uri": "https://localhost:8080/"
        },
        "outputId": "79b9db30-a447-42b5-eaf6-9d95959e5024"
      },
      "source": [
        "from google.colab import drive\n",
        "drive.mount('/content/gdrive')"
      ],
      "execution_count": null,
      "outputs": [
        {
          "output_type": "stream",
          "text": [
            "Mounted at /content/gdrive\n"
          ],
          "name": "stdout"
        }
      ]
    },
    {
      "cell_type": "code",
      "metadata": {
        "id": "HFaRVe7XDUWQ"
      },
      "source": [
        "data_path = \"/content/gdrive/My Drive/REDS/\""
      ],
      "execution_count": null,
      "outputs": []
    },
    {
      "cell_type": "code",
      "metadata": {
        "id": "0tMIp93QBoWz"
      },
      "source": [
        "import h5py\n",
        "import numpy as np\n",
        "import pandas as pd\n",
        "import matplotlib.pyplot as plt\n",
        "from sklearn.decomposition import PCA\n",
        "import seaborn as sn\n",
        "import random\n",
        "import statistics\n",
        "\n",
        "from sklearn.model_selection import StratifiedShuffleSplit\n",
        "from sklearn.ensemble import RandomForestClassifier\n",
        "from sklearn.neighbors import KNeighborsClassifier\n",
        "from sklearn.tree import DecisionTreeClassifier\n",
        "from sklearn.decomposition import PCA\n",
        "from sklearn.dummy import DummyClassifier\n",
        "from sklearn.neural_network import MLPClassifier\n",
        "from sklearn.svm import SVC\n",
        "\n",
        "from sklearn.model_selection import cross_val_score\n",
        "from sklearn.preprocessing import StandardScaler\n",
        "from sklearn.model_selection import GridSearchCV"
      ],
      "execution_count": null,
      "outputs": []
    },
    {
      "cell_type": "markdown",
      "metadata": {
        "id": "vPO5kavOiLTM"
      },
      "source": [
        "### 1ère partie : Analyse de données"
      ]
    },
    {
      "cell_type": "code",
      "metadata": {
        "id": "sWc9d_pHDZbl",
        "colab": {
          "base_uri": "https://localhost:8080/"
        },
        "outputId": "f7b367a7-1ba2-4868-a9bb-0effcf849fa9"
      },
      "source": [
        "filename = \"SG24_dataset.h5\"\n",
        "hf = h5py.File(data_path+filename,'r')\n",
        "\n",
        "print(\"Keys :\",hf.keys())"
      ],
      "execution_count": null,
      "outputs": [
        {
          "output_type": "stream",
          "text": [
            "Keys : <KeysViewHDF5 ['Predictors', 'Target', 'User']>\n"
          ],
          "name": "stdout"
        }
      ]
    },
    {
      "cell_type": "code",
      "metadata": {
        "id": "oxiEbeOXppiW"
      },
      "source": [
        "# data is now an ndarray.\n",
        "predictors_data = hf['Predictors'][()].T\n",
        "predictors_data_7captors = predictors_data[:,0:7]\n",
        "predictors_data_22captors = predictors_data[:,7:]\n",
        "\n",
        "target_data = hf['Target'][()].T.reshape(-1)\n",
        "\n",
        "user_data =hf['User'][()].T.reshape(-1)"
      ],
      "execution_count": null,
      "outputs": []
    },
    {
      "cell_type": "code",
      "metadata": {
        "colab": {
          "base_uri": "https://localhost:8080/"
        },
        "id": "dhl8Q4DyCzbI",
        "outputId": "11c7039f-45fb-4bee-f7d3-f108ae1999de"
      },
      "source": [
        "user_data.shape"
      ],
      "execution_count": null,
      "outputs": [
        {
          "output_type": "execute_result",
          "data": {
            "text/plain": [
              "(2400,)"
            ]
          },
          "metadata": {
            "tags": []
          },
          "execution_count": 45
        }
      ]
    },
    {
      "cell_type": "code",
      "metadata": {
        "colab": {
          "base_uri": "https://localhost:8080/"
        },
        "id": "afFHzOykCmWv",
        "outputId": "d1c492e9-69f6-45e2-d5ec-a949aa6afd71"
      },
      "source": [
        "target_data.shape"
      ],
      "execution_count": null,
      "outputs": [
        {
          "output_type": "execute_result",
          "data": {
            "text/plain": [
              "(2400,)"
            ]
          },
          "metadata": {
            "tags": []
          },
          "execution_count": 46
        }
      ]
    },
    {
      "cell_type": "code",
      "metadata": {
        "colab": {
          "base_uri": "https://localhost:8080/"
        },
        "id": "xKUdcwnPCgx6",
        "outputId": "547b9c53-eea5-49bd-faf7-97849f25cd95"
      },
      "source": [
        "predictors_data.shape"
      ],
      "execution_count": null,
      "outputs": [
        {
          "output_type": "execute_result",
          "data": {
            "text/plain": [
              "(2400, 29)"
            ]
          },
          "metadata": {
            "tags": []
          },
          "execution_count": 47
        }
      ]
    },
    {
      "cell_type": "code",
      "metadata": {
        "colab": {
          "base_uri": "https://localhost:8080/"
        },
        "id": "3s-FwNp8FT50",
        "outputId": "b607cc90-9dea-4be9-b48f-80f2804ed04e"
      },
      "source": [
        "predictors_data_7captors.shape"
      ],
      "execution_count": null,
      "outputs": [
        {
          "output_type": "execute_result",
          "data": {
            "text/plain": [
              "(2400, 7)"
            ]
          },
          "metadata": {
            "tags": []
          },
          "execution_count": 48
        }
      ]
    },
    {
      "cell_type": "code",
      "metadata": {
        "colab": {
          "base_uri": "https://localhost:8080/"
        },
        "id": "s67HKkTSFUmR",
        "outputId": "4491779c-b580-44e0-bd74-2dc9c0c3ffe1"
      },
      "source": [
        "predictors_data_22captors.shape"
      ],
      "execution_count": null,
      "outputs": [
        {
          "output_type": "execute_result",
          "data": {
            "text/plain": [
              "(2400, 22)"
            ]
          },
          "metadata": {
            "tags": []
          },
          "execution_count": 49
        }
      ]
    },
    {
      "cell_type": "markdown",
      "metadata": {
        "id": "iXEOu2Qms5xy"
      },
      "source": [
        "* Utilisation de la librairie Pandas"
      ]
    },
    {
      "cell_type": "code",
      "metadata": {
        "id": "LIQ58iwvscUT",
        "colab": {
          "base_uri": "https://localhost:8080/",
          "height": 226
        },
        "outputId": "ab2942f3-9786-427f-9343-4c3ced569b5b"
      },
      "source": [
        "df = pd.DataFrame(predictors_data)\n",
        "df.head()"
      ],
      "execution_count": null,
      "outputs": [
        {
          "output_type": "execute_result",
          "data": {
            "text/html": [
              "<div>\n",
              "<style scoped>\n",
              "    .dataframe tbody tr th:only-of-type {\n",
              "        vertical-align: middle;\n",
              "    }\n",
              "\n",
              "    .dataframe tbody tr th {\n",
              "        vertical-align: top;\n",
              "    }\n",
              "\n",
              "    .dataframe thead th {\n",
              "        text-align: right;\n",
              "    }\n",
              "</style>\n",
              "<table border=\"1\" class=\"dataframe\">\n",
              "  <thead>\n",
              "    <tr style=\"text-align: right;\">\n",
              "      <th></th>\n",
              "      <th>0</th>\n",
              "      <th>1</th>\n",
              "      <th>2</th>\n",
              "      <th>3</th>\n",
              "      <th>4</th>\n",
              "      <th>5</th>\n",
              "      <th>6</th>\n",
              "      <th>7</th>\n",
              "      <th>8</th>\n",
              "      <th>9</th>\n",
              "      <th>10</th>\n",
              "      <th>11</th>\n",
              "      <th>12</th>\n",
              "      <th>13</th>\n",
              "      <th>14</th>\n",
              "      <th>15</th>\n",
              "      <th>16</th>\n",
              "      <th>17</th>\n",
              "      <th>18</th>\n",
              "      <th>19</th>\n",
              "      <th>20</th>\n",
              "      <th>21</th>\n",
              "      <th>22</th>\n",
              "      <th>23</th>\n",
              "      <th>24</th>\n",
              "      <th>25</th>\n",
              "      <th>26</th>\n",
              "      <th>27</th>\n",
              "      <th>28</th>\n",
              "    </tr>\n",
              "  </thead>\n",
              "  <tbody>\n",
              "    <tr>\n",
              "      <th>0</th>\n",
              "      <td>0.0</td>\n",
              "      <td>0.0</td>\n",
              "      <td>0.0</td>\n",
              "      <td>0.145442</td>\n",
              "      <td>0.0</td>\n",
              "      <td>-0.989367</td>\n",
              "      <td>0.0</td>\n",
              "      <td>77.0</td>\n",
              "      <td>67.0</td>\n",
              "      <td>74.0</td>\n",
              "      <td>94.0</td>\n",
              "      <td>165.0</td>\n",
              "      <td>82.0</td>\n",
              "      <td>68.0</td>\n",
              "      <td>79.0</td>\n",
              "      <td>138.0</td>\n",
              "      <td>72.0</td>\n",
              "      <td>97.0</td>\n",
              "      <td>106.0</td>\n",
              "      <td>132.0</td>\n",
              "      <td>77.0</td>\n",
              "      <td>91.0</td>\n",
              "      <td>96.0</td>\n",
              "      <td>0.0</td>\n",
              "      <td>83.0</td>\n",
              "      <td>33.0</td>\n",
              "      <td>136.0</td>\n",
              "      <td>140.0</td>\n",
              "      <td>143.0</td>\n",
              "    </tr>\n",
              "    <tr>\n",
              "      <th>1</th>\n",
              "      <td>0.0</td>\n",
              "      <td>0.0</td>\n",
              "      <td>0.0</td>\n",
              "      <td>0.195537</td>\n",
              "      <td>0.0</td>\n",
              "      <td>-0.980696</td>\n",
              "      <td>0.0</td>\n",
              "      <td>20.0</td>\n",
              "      <td>131.0</td>\n",
              "      <td>127.0</td>\n",
              "      <td>144.0</td>\n",
              "      <td>63.0</td>\n",
              "      <td>56.0</td>\n",
              "      <td>83.0</td>\n",
              "      <td>48.0</td>\n",
              "      <td>53.0</td>\n",
              "      <td>101.0</td>\n",
              "      <td>128.0</td>\n",
              "      <td>70.0</td>\n",
              "      <td>58.0</td>\n",
              "      <td>93.0</td>\n",
              "      <td>119.0</td>\n",
              "      <td>64.0</td>\n",
              "      <td>82.0</td>\n",
              "      <td>105.0</td>\n",
              "      <td>119.0</td>\n",
              "      <td>79.0</td>\n",
              "      <td>103.0</td>\n",
              "      <td>82.0</td>\n",
              "    </tr>\n",
              "    <tr>\n",
              "      <th>2</th>\n",
              "      <td>0.0</td>\n",
              "      <td>0.0</td>\n",
              "      <td>0.0</td>\n",
              "      <td>0.294340</td>\n",
              "      <td>0.0</td>\n",
              "      <td>-0.955701</td>\n",
              "      <td>0.0</td>\n",
              "      <td>22.0</td>\n",
              "      <td>139.0</td>\n",
              "      <td>134.0</td>\n",
              "      <td>125.0</td>\n",
              "      <td>76.0</td>\n",
              "      <td>68.0</td>\n",
              "      <td>81.0</td>\n",
              "      <td>56.0</td>\n",
              "      <td>61.0</td>\n",
              "      <td>96.0</td>\n",
              "      <td>141.0</td>\n",
              "      <td>75.0</td>\n",
              "      <td>59.0</td>\n",
              "      <td>87.0</td>\n",
              "      <td>130.0</td>\n",
              "      <td>68.0</td>\n",
              "      <td>86.0</td>\n",
              "      <td>106.0</td>\n",
              "      <td>131.0</td>\n",
              "      <td>75.0</td>\n",
              "      <td>105.0</td>\n",
              "      <td>89.0</td>\n",
              "    </tr>\n",
              "    <tr>\n",
              "      <th>3</th>\n",
              "      <td>0.0</td>\n",
              "      <td>0.0</td>\n",
              "      <td>0.0</td>\n",
              "      <td>0.352911</td>\n",
              "      <td>0.0</td>\n",
              "      <td>-0.935657</td>\n",
              "      <td>0.0</td>\n",
              "      <td>7.0</td>\n",
              "      <td>135.0</td>\n",
              "      <td>137.0</td>\n",
              "      <td>158.0</td>\n",
              "      <td>70.0</td>\n",
              "      <td>68.0</td>\n",
              "      <td>82.0</td>\n",
              "      <td>61.0</td>\n",
              "      <td>57.0</td>\n",
              "      <td>97.0</td>\n",
              "      <td>161.0</td>\n",
              "      <td>79.0</td>\n",
              "      <td>59.0</td>\n",
              "      <td>85.0</td>\n",
              "      <td>137.0</td>\n",
              "      <td>69.0</td>\n",
              "      <td>87.0</td>\n",
              "      <td>106.0</td>\n",
              "      <td>132.0</td>\n",
              "      <td>76.0</td>\n",
              "      <td>114.0</td>\n",
              "      <td>75.0</td>\n",
              "    </tr>\n",
              "    <tr>\n",
              "      <th>4</th>\n",
              "      <td>0.0</td>\n",
              "      <td>0.0</td>\n",
              "      <td>0.0</td>\n",
              "      <td>0.318924</td>\n",
              "      <td>0.0</td>\n",
              "      <td>-0.947780</td>\n",
              "      <td>0.0</td>\n",
              "      <td>123.0</td>\n",
              "      <td>164.0</td>\n",
              "      <td>69.0</td>\n",
              "      <td>56.0</td>\n",
              "      <td>82.0</td>\n",
              "      <td>52.0</td>\n",
              "      <td>57.0</td>\n",
              "      <td>96.0</td>\n",
              "      <td>124.0</td>\n",
              "      <td>70.0</td>\n",
              "      <td>60.0</td>\n",
              "      <td>83.0</td>\n",
              "      <td>124.0</td>\n",
              "      <td>64.0</td>\n",
              "      <td>80.0</td>\n",
              "      <td>105.0</td>\n",
              "      <td>120.0</td>\n",
              "      <td>67.0</td>\n",
              "      <td>115.0</td>\n",
              "      <td>80.0</td>\n",
              "      <td>0.0</td>\n",
              "      <td>83.0</td>\n",
              "    </tr>\n",
              "  </tbody>\n",
              "</table>\n",
              "</div>"
            ],
            "text/plain": [
              "    0    1    2         3    4   ...     24     25     26     27     28\n",
              "0  0.0  0.0  0.0  0.145442  0.0  ...   83.0   33.0  136.0  140.0  143.0\n",
              "1  0.0  0.0  0.0  0.195537  0.0  ...  105.0  119.0   79.0  103.0   82.0\n",
              "2  0.0  0.0  0.0  0.294340  0.0  ...  106.0  131.0   75.0  105.0   89.0\n",
              "3  0.0  0.0  0.0  0.352911  0.0  ...  106.0  132.0   76.0  114.0   75.0\n",
              "4  0.0  0.0  0.0  0.318924  0.0  ...   67.0  115.0   80.0    0.0   83.0\n",
              "\n",
              "[5 rows x 29 columns]"
            ]
          },
          "metadata": {
            "tags": []
          },
          "execution_count": 7
        }
      ]
    },
    {
      "cell_type": "markdown",
      "metadata": {
        "id": "mvIHet46suXW"
      },
      "source": [
        "* Description statistique des données"
      ]
    },
    {
      "cell_type": "code",
      "metadata": {
        "id": "dXi-FqETsyOs",
        "colab": {
          "base_uri": "https://localhost:8080/",
          "height": 317
        },
        "outputId": "26e74119-c4ee-4610-f08d-170af038c366"
      },
      "source": [
        "df.describe()"
      ],
      "execution_count": null,
      "outputs": [
        {
          "output_type": "execute_result",
          "data": {
            "text/html": [
              "<div>\n",
              "<style scoped>\n",
              "    .dataframe tbody tr th:only-of-type {\n",
              "        vertical-align: middle;\n",
              "    }\n",
              "\n",
              "    .dataframe tbody tr th {\n",
              "        vertical-align: top;\n",
              "    }\n",
              "\n",
              "    .dataframe thead th {\n",
              "        text-align: right;\n",
              "    }\n",
              "</style>\n",
              "<table border=\"1\" class=\"dataframe\">\n",
              "  <thead>\n",
              "    <tr style=\"text-align: right;\">\n",
              "      <th></th>\n",
              "      <th>0</th>\n",
              "      <th>1</th>\n",
              "      <th>2</th>\n",
              "      <th>3</th>\n",
              "      <th>4</th>\n",
              "      <th>5</th>\n",
              "      <th>6</th>\n",
              "      <th>7</th>\n",
              "      <th>8</th>\n",
              "      <th>9</th>\n",
              "      <th>10</th>\n",
              "      <th>11</th>\n",
              "      <th>12</th>\n",
              "      <th>13</th>\n",
              "      <th>14</th>\n",
              "      <th>15</th>\n",
              "      <th>16</th>\n",
              "      <th>17</th>\n",
              "      <th>18</th>\n",
              "      <th>19</th>\n",
              "      <th>20</th>\n",
              "      <th>21</th>\n",
              "      <th>22</th>\n",
              "      <th>23</th>\n",
              "      <th>24</th>\n",
              "      <th>25</th>\n",
              "      <th>26</th>\n",
              "      <th>27</th>\n",
              "      <th>28</th>\n",
              "    </tr>\n",
              "  </thead>\n",
              "  <tbody>\n",
              "    <tr>\n",
              "      <th>count</th>\n",
              "      <td>2400.000000</td>\n",
              "      <td>2400.000000</td>\n",
              "      <td>2400.000000</td>\n",
              "      <td>2400.000000</td>\n",
              "      <td>2400.000000</td>\n",
              "      <td>2400.000000</td>\n",
              "      <td>2400.000000</td>\n",
              "      <td>2400.000000</td>\n",
              "      <td>2400.000000</td>\n",
              "      <td>2400.000000</td>\n",
              "      <td>2400.000000</td>\n",
              "      <td>2400.000000</td>\n",
              "      <td>2400.000000</td>\n",
              "      <td>2400.000000</td>\n",
              "      <td>2400.000000</td>\n",
              "      <td>2400.000000</td>\n",
              "      <td>2400.000000</td>\n",
              "      <td>2400.000000</td>\n",
              "      <td>2400.000000</td>\n",
              "      <td>2400.000000</td>\n",
              "      <td>2400.000000</td>\n",
              "      <td>2400.000000</td>\n",
              "      <td>2400.000000</td>\n",
              "      <td>2400.000000</td>\n",
              "      <td>2400.000000</td>\n",
              "      <td>2400.000000</td>\n",
              "      <td>2400.000000</td>\n",
              "      <td>2400.000000</td>\n",
              "      <td>2400.000000</td>\n",
              "    </tr>\n",
              "    <tr>\n",
              "      <th>mean</th>\n",
              "      <td>53.669293</td>\n",
              "      <td>-5.698329</td>\n",
              "      <td>0.203902</td>\n",
              "      <td>0.491011</td>\n",
              "      <td>-0.140472</td>\n",
              "      <td>0.164828</td>\n",
              "      <td>-0.149610</td>\n",
              "      <td>129.851667</td>\n",
              "      <td>137.503750</td>\n",
              "      <td>145.390833</td>\n",
              "      <td>99.894583</td>\n",
              "      <td>103.697083</td>\n",
              "      <td>90.632500</td>\n",
              "      <td>92.763750</td>\n",
              "      <td>98.470000</td>\n",
              "      <td>102.806667</td>\n",
              "      <td>105.589167</td>\n",
              "      <td>105.263750</td>\n",
              "      <td>106.814583</td>\n",
              "      <td>110.054167</td>\n",
              "      <td>82.854167</td>\n",
              "      <td>103.005417</td>\n",
              "      <td>91.606667</td>\n",
              "      <td>143.834167</td>\n",
              "      <td>109.237083</td>\n",
              "      <td>120.668750</td>\n",
              "      <td>82.562500</td>\n",
              "      <td>137.099167</td>\n",
              "      <td>83.047500</td>\n",
              "    </tr>\n",
              "    <tr>\n",
              "      <th>std</th>\n",
              "      <td>41.520634</td>\n",
              "      <td>32.720964</td>\n",
              "      <td>22.393903</td>\n",
              "      <td>0.249192</td>\n",
              "      <td>0.281654</td>\n",
              "      <td>0.690302</td>\n",
              "      <td>0.268272</td>\n",
              "      <td>32.298842</td>\n",
              "      <td>15.895186</td>\n",
              "      <td>31.776834</td>\n",
              "      <td>41.527013</td>\n",
              "      <td>36.395257</td>\n",
              "      <td>58.266803</td>\n",
              "      <td>20.785061</td>\n",
              "      <td>41.988227</td>\n",
              "      <td>56.366714</td>\n",
              "      <td>23.180454</td>\n",
              "      <td>54.492987</td>\n",
              "      <td>28.088027</td>\n",
              "      <td>46.031646</td>\n",
              "      <td>20.323427</td>\n",
              "      <td>45.260604</td>\n",
              "      <td>22.685341</td>\n",
              "      <td>53.253552</td>\n",
              "      <td>17.291823</td>\n",
              "      <td>29.802893</td>\n",
              "      <td>48.056139</td>\n",
              "      <td>21.926745</td>\n",
              "      <td>30.394479</td>\n",
              "    </tr>\n",
              "    <tr>\n",
              "      <th>min</th>\n",
              "      <td>0.000000</td>\n",
              "      <td>-81.559349</td>\n",
              "      <td>-68.739662</td>\n",
              "      <td>0.000000</td>\n",
              "      <td>-0.855817</td>\n",
              "      <td>-1.000000</td>\n",
              "      <td>-0.789427</td>\n",
              "      <td>1.000000</td>\n",
              "      <td>44.000000</td>\n",
              "      <td>36.000000</td>\n",
              "      <td>27.000000</td>\n",
              "      <td>6.000000</td>\n",
              "      <td>7.000000</td>\n",
              "      <td>21.000000</td>\n",
              "      <td>1.000000</td>\n",
              "      <td>1.000000</td>\n",
              "      <td>4.000000</td>\n",
              "      <td>1.000000</td>\n",
              "      <td>27.000000</td>\n",
              "      <td>0.000000</td>\n",
              "      <td>1.000000</td>\n",
              "      <td>1.000000</td>\n",
              "      <td>25.000000</td>\n",
              "      <td>0.000000</td>\n",
              "      <td>1.000000</td>\n",
              "      <td>1.000000</td>\n",
              "      <td>1.000000</td>\n",
              "      <td>0.000000</td>\n",
              "      <td>0.000000</td>\n",
              "    </tr>\n",
              "    <tr>\n",
              "      <th>25%</th>\n",
              "      <td>0.000000</td>\n",
              "      <td>-26.450032</td>\n",
              "      <td>-15.801244</td>\n",
              "      <td>0.314152</td>\n",
              "      <td>-0.387735</td>\n",
              "      <td>-0.846747</td>\n",
              "      <td>-0.360048</td>\n",
              "      <td>122.000000</td>\n",
              "      <td>128.000000</td>\n",
              "      <td>121.750000</td>\n",
              "      <td>69.000000</td>\n",
              "      <td>77.000000</td>\n",
              "      <td>47.000000</td>\n",
              "      <td>82.000000</td>\n",
              "      <td>64.000000</td>\n",
              "      <td>49.000000</td>\n",
              "      <td>92.000000</td>\n",
              "      <td>67.750000</td>\n",
              "      <td>85.000000</td>\n",
              "      <td>63.000000</td>\n",
              "      <td>71.000000</td>\n",
              "      <td>79.000000</td>\n",
              "      <td>75.000000</td>\n",
              "      <td>92.000000</td>\n",
              "      <td>105.000000</td>\n",
              "      <td>104.000000</td>\n",
              "      <td>49.000000</td>\n",
              "      <td>131.000000</td>\n",
              "      <td>64.000000</td>\n",
              "    </tr>\n",
              "    <tr>\n",
              "      <th>50%</th>\n",
              "      <td>70.621365</td>\n",
              "      <td>0.000000</td>\n",
              "      <td>0.000000</td>\n",
              "      <td>0.555695</td>\n",
              "      <td>0.000000</td>\n",
              "      <td>0.471377</td>\n",
              "      <td>-0.062433</td>\n",
              "      <td>128.000000</td>\n",
              "      <td>135.000000</td>\n",
              "      <td>152.000000</td>\n",
              "      <td>85.000000</td>\n",
              "      <td>94.000000</td>\n",
              "      <td>63.000000</td>\n",
              "      <td>87.000000</td>\n",
              "      <td>91.000000</td>\n",
              "      <td>83.000000</td>\n",
              "      <td>99.000000</td>\n",
              "      <td>118.000000</td>\n",
              "      <td>106.000000</td>\n",
              "      <td>132.000000</td>\n",
              "      <td>81.000000</td>\n",
              "      <td>114.000000</td>\n",
              "      <td>92.000000</td>\n",
              "      <td>159.000000</td>\n",
              "      <td>106.000000</td>\n",
              "      <td>126.000000</td>\n",
              "      <td>86.000000</td>\n",
              "      <td>141.000000</td>\n",
              "      <td>78.000000</td>\n",
              "    </tr>\n",
              "    <tr>\n",
              "      <th>75%</th>\n",
              "      <td>84.528341</td>\n",
              "      <td>0.000000</td>\n",
              "      <td>17.166466</td>\n",
              "      <td>0.691598</td>\n",
              "      <td>0.000000</td>\n",
              "      <td>0.629917</td>\n",
              "      <td>0.000000</td>\n",
              "      <td>134.000000</td>\n",
              "      <td>143.000000</td>\n",
              "      <td>170.000000</td>\n",
              "      <td>122.000000</td>\n",
              "      <td>131.000000</td>\n",
              "      <td>140.000000</td>\n",
              "      <td>95.000000</td>\n",
              "      <td>138.000000</td>\n",
              "      <td>162.000000</td>\n",
              "      <td>112.000000</td>\n",
              "      <td>147.000000</td>\n",
              "      <td>133.000000</td>\n",
              "      <td>151.000000</td>\n",
              "      <td>93.000000</td>\n",
              "      <td>134.000000</td>\n",
              "      <td>111.000000</td>\n",
              "      <td>192.000000</td>\n",
              "      <td>107.000000</td>\n",
              "      <td>142.000000</td>\n",
              "      <td>116.000000</td>\n",
              "      <td>149.000000</td>\n",
              "      <td>101.000000</td>\n",
              "    </tr>\n",
              "    <tr>\n",
              "      <th>max</th>\n",
              "      <td>127.721718</td>\n",
              "      <td>78.185921</td>\n",
              "      <td>59.903419</td>\n",
              "      <td>0.955188</td>\n",
              "      <td>0.727471</td>\n",
              "      <td>1.000000</td>\n",
              "      <td>0.782390</td>\n",
              "      <td>238.000000</td>\n",
              "      <td>206.000000</td>\n",
              "      <td>207.000000</td>\n",
              "      <td>245.000000</td>\n",
              "      <td>230.000000</td>\n",
              "      <td>225.000000</td>\n",
              "      <td>216.000000</td>\n",
              "      <td>190.000000</td>\n",
              "      <td>216.000000</td>\n",
              "      <td>210.000000</td>\n",
              "      <td>234.000000</td>\n",
              "      <td>167.000000</td>\n",
              "      <td>179.000000</td>\n",
              "      <td>170.000000</td>\n",
              "      <td>218.000000</td>\n",
              "      <td>229.000000</td>\n",
              "      <td>248.000000</td>\n",
              "      <td>255.000000</td>\n",
              "      <td>189.000000</td>\n",
              "      <td>216.000000</td>\n",
              "      <td>192.000000</td>\n",
              "      <td>193.000000</td>\n",
              "    </tr>\n",
              "  </tbody>\n",
              "</table>\n",
              "</div>"
            ],
            "text/plain": [
              "                0            1   ...           27           28\n",
              "count  2400.000000  2400.000000  ...  2400.000000  2400.000000\n",
              "mean     53.669293    -5.698329  ...   137.099167    83.047500\n",
              "std      41.520634    32.720964  ...    21.926745    30.394479\n",
              "min       0.000000   -81.559349  ...     0.000000     0.000000\n",
              "25%       0.000000   -26.450032  ...   131.000000    64.000000\n",
              "50%      70.621365     0.000000  ...   141.000000    78.000000\n",
              "75%      84.528341     0.000000  ...   149.000000   101.000000\n",
              "max     127.721718    78.185921  ...   192.000000   193.000000\n",
              "\n",
              "[8 rows x 29 columns]"
            ]
          },
          "metadata": {
            "tags": []
          },
          "execution_count": 51
        }
      ]
    },
    {
      "cell_type": "markdown",
      "metadata": {
        "id": "jWYGezfKDte-"
      },
      "source": [
        "\n",
        "\n",
        "---\n",
        "\n"
      ]
    },
    {
      "cell_type": "markdown",
      "metadata": {
        "id": "VXBA-FMxlPAT"
      },
      "source": [
        "## 2eme partie : Protocol expérimental \n",
        "\n",
        "**Objectifs :**\n",
        "\n",
        "* \"base line\" => pas optimisé, variable intéressante \n",
        "\n",
        "* score, modèle simple (knn, randomforest,svm) en respectant le protocole expérimental.\n",
        "* feature engineering\n",
        "* comparaison modèle\n",
        "* optimisation hyperparamètre\n",
        "* nouvelles contributions"
      ]
    },
    {
      "cell_type": "code",
      "metadata": {
        "id": "OmUmm57ceeI6"
      },
      "source": [
        "dummy = DummyClassifier(strategy=\"uniform\", random_state=42, constant=24)\n",
        "random_forest = RandomForestClassifier(random_state=42)\n",
        "decision_tree = DecisionTreeClassifier()\n",
        "knn = KNeighborsClassifier()\n",
        "svm = SVC(decision_function_shape='ovo')\n",
        "mlp = MLPClassifier()"
      ],
      "execution_count": null,
      "outputs": []
    },
    {
      "cell_type": "code",
      "metadata": {
        "id": "d-CzsI-Of36t"
      },
      "source": [
        "n_split = 5\r\n",
        "sss = StratifiedShuffleSplit(n_splits=n_split, test_size=0.3, random_state=42)"
      ],
      "execution_count": null,
      "outputs": []
    },
    {
      "cell_type": "markdown",
      "metadata": {
        "id": "jw91w8bpSLWI"
      },
      "source": [
        "## Création des différents datasets à tester\n",
        "* X en considérant tous les capteurs\n",
        "* X en considérant tous les capteurs (scalé)\n",
        "* X en considérant les 7 premiers capteurs\n",
        "* X en considérant les 22 autres capteurs restants"
      ]
    },
    {
      "cell_type": "markdown",
      "metadata": {
        "id": "YWC6emArgOpH"
      },
      "source": [
        "#### Feature selection"
      ]
    },
    {
      "cell_type": "code",
      "metadata": {
        "id": "VbIE5U6PqGqU"
      },
      "source": [
        "X = df.to_numpy()\n",
        "y = target_data\n",
        "\n",
        "# Plusieurs dataset à tester\n",
        "scaler = StandardScaler()\n",
        "scaler.fit(X)\n",
        "X_scale = scaler.transform(X)\n",
        "\n",
        "X_7captors = predictors_data_7captors\n",
        "X_22captors = predictors_data_22captors"
      ],
      "execution_count": null,
      "outputs": []
    },
    {
      "cell_type": "markdown",
      "metadata": {
        "id": "u8YNTO_Ou3h4"
      },
      "source": [
        "#### Feature Importance"
      ]
    },
    {
      "cell_type": "code",
      "metadata": {
        "colab": {
          "base_uri": "https://localhost:8080/",
          "height": 424
        },
        "id": "rYqND8oWu697",
        "outputId": "be283de9-60f2-4108-89a6-0d4291095231"
      },
      "source": [
        "random_forest.fit(X,y)\n",
        "print(random_forest.n_features_)\n",
        "print(random_forest.feature_importances_)\n",
        "plt.bar(np.arange(29),random_forest.feature_importances_)\n",
        "plt.title(\"Feature Importance\")\n",
        "plt.xlabel(\"Feature\")\n",
        "plt.ylabel(\"Gini Importance\")"
      ],
      "execution_count": null,
      "outputs": [
        {
          "output_type": "stream",
          "text": [
            "29\n",
            "[0.00519749 0.00450029 0.00917529 0.01437266 0.02421129 0.01472722\n",
            " 0.0112785  0.04215671 0.03500903 0.05606731 0.05652645 0.04487026\n",
            " 0.07876711 0.02493436 0.04079905 0.07231666 0.01853641 0.0760175\n",
            " 0.03308573 0.07576902 0.01000016 0.0465054  0.0446397  0.08331608\n",
            " 0.00456887 0.02387354 0.01490793 0.02414672 0.00972326]\n"
          ],
          "name": "stdout"
        },
        {
          "output_type": "execute_result",
          "data": {
            "text/plain": [
              "Text(0, 0.5, 'Gini Importance')"
            ]
          },
          "metadata": {
            "tags": []
          },
          "execution_count": 11
        },
        {
          "output_type": "display_data",
          "data": {
            "image/png": "[encoded data removed]",
            "text/plain": [
              "<Figure size 432x288 with 1 Axes>"
            ]
          },
          "metadata": {
            "tags": [],
            "needs_background": "light"
          }
        }
      ]
    },
    {
      "cell_type": "markdown",
      "metadata": {
        "id": "POgTOb56VdYl"
      },
      "source": [
        "# Base Line Machine Learning"
      ]
    },
    {
      "cell_type": "code",
      "metadata": {
        "colab": {
          "base_uri": "https://localhost:8080/"
        },
        "id": "3X9A_EORDzBw",
        "outputId": "f11ccadb-c041-4ec4-e493-e03e5c302382"
      },
      "source": [
        "good_pred = 0\n",
        "for row in range(X.shape[0]) :\n",
        "  r = random.randint(1,24)\n",
        "  if y[row] == r :\n",
        "    good_pred += 1\n",
        "print(\"Score accuracy\", good_pred / X.shape[0])\n",
        "print(np.unique(y))"
      ],
      "execution_count": null,
      "outputs": [
        {
          "output_type": "stream",
          "text": [
            "Score accuracy 0.041666666666666664\n",
            "[ 1  2  3  4  5  6  7  8  9 10 11 12 13 14 15 16 17 18 19 20 21 22 23 24]\n"
          ],
          "name": "stdout"
        }
      ]
    },
    {
      "cell_type": "code",
      "metadata": {
        "colab": {
          "base_uri": "https://localhost:8080/"
        },
        "id": "NL4TMieCN3VA",
        "outputId": "e8e5fbf4-f749-4fed-b354-77ab592dd521"
      },
      "source": [
        "acc_cv = cross_val_score(dummy, X, y, cv=sss)\n",
        "print(\"Accuracy Score (KFold=5) =>\",acc_cv,\"=>\",acc_cv.mean())"
      ],
      "execution_count": null,
      "outputs": [
        {
          "output_type": "stream",
          "text": [
            "Accuracy Score (KFold=5) => [0.04305556 0.05277778 0.04027778 0.03055556 0.04444444] => 0.042222222222222223\n"
          ],
          "name": "stdout"
        }
      ]
    },
    {
      "cell_type": "markdown",
      "metadata": {
        "id": "IFDN1Q_urfKM"
      },
      "source": [
        "### Modèle simple : DummyClassifier selon différentes stratégies simples\n",
        "\n",
        "lien = https://scikit-learn.org/stable/modules/generated/sklearn.dummy.DummyClassifier.html"
      ]
    },
    {
      "cell_type": "code",
      "metadata": {
        "id": "V7z2A05LzUvn",
        "colab": {
          "base_uri": "https://localhost:8080/"
        },
        "outputId": "eaa54e0f-ecaa-472b-f559-04c8eaa32607"
      },
      "source": [
        "strategies = [\"stratified\",\"most_frequent\",\"prior\",\"uniform\",\"constant\"]\n",
        "for strat in strategies:\n",
        "  dummy_clf = DummyClassifier(strategy=strat, random_state=0, constant=2)\n",
        "  dummy_clf.fit(X, y)\n",
        "  print(dummy_clf.predict(X))\n",
        "  print(strat, dummy_clf.score(X, y))"
      ],
      "execution_count": null,
      "outputs": [
        {
          "output_type": "stream",
          "text": [
            "[ 9 12  7 ... 14  1 20]\n",
            "stratified 0.04083333333333333\n",
            "[1 1 1 ... 1 1 1]\n",
            "most_frequent 0.041666666666666664\n",
            "[1 1 1 ... 1 1 1]\n",
            "prior 0.041666666666666664\n",
            "[13 16 22 ...  5  5 14]\n",
            "uniform 0.04541666666666667\n",
            "[2 2 2 ... 2 2 2]\n",
            "constant 0.041666666666666664\n"
          ],
          "name": "stdout"
        }
      ]
    },
    {
      "cell_type": "code",
      "metadata": {
        "id": "2HJEPX_MrYER",
        "colab": {
          "base_uri": "https://localhost:8080/"
        },
        "outputId": "57c21eeb-a934-4a15-d5a3-48e003b1b097"
      },
      "source": [
        "accuracy_dummy_cv = []\n",
        "strategies = [\"stratified\",\"most_frequent\",\"prior\",\"uniform\",\"constant\"]\n",
        "\n",
        "for strat in strategies :\n",
        "  tmp = 0.0\n",
        "  for train_index, test_index in sss.split(X, y):\n",
        "    X_train, X_test = X[train_index], X[test_index]\n",
        "    y_train, y_test = y[train_index], y[test_index]\n",
        "\n",
        "    dummy_clf = DummyClassifier(strategy=strat, random_state=0, constant=1)\n",
        "    dummy_clf.fit(X_train, y_train)\n",
        "\n",
        "    tmp += dummy_clf.score(X_test, y_test)\n",
        "\n",
        "  print(strat,\" : \", tmp/n_split)"
      ],
      "execution_count": null,
      "outputs": [
        {
          "output_type": "stream",
          "text": [
            "stratified  :  0.04222222222222223\n",
            "most_frequent  :  0.041666666666666664\n",
            "prior  :  0.041666666666666664\n",
            "uniform  :  0.04083333333333333\n",
            "constant  :  0.041666666666666664\n"
          ],
          "name": "stdout"
        }
      ]
    },
    {
      "cell_type": "markdown",
      "metadata": {
        "id": "4cJSKVPDs7_9"
      },
      "source": [
        "### Modèle SVM"
      ]
    },
    {
      "cell_type": "code",
      "metadata": {
        "colab": {
          "base_uri": "https://localhost:8080/"
        },
        "id": "11EwPuQgs8jm",
        "outputId": "f2c52902-5665-4b1e-8bfb-ecfe06bc819a"
      },
      "source": [
        "acc_cv = cross_val_score(svm, X, y, cv=sss)\n",
        "print(\"Accuracy Score (KFold=5) =>\",acc_cv,\"=> %.3f\"%acc_cv.mean())\n",
        "\n",
        "acc_cv = cross_val_score(svm, X_scale, y, cv=sss)\n",
        "print(\"Accuracy Score (KFold=5) =>\",acc_cv,\"=> %.3f\"%acc_cv.mean())\n",
        "\n",
        "acc_cv = cross_val_score(svm, X_7captors, y, cv=sss)\n",
        "print(\"Accuracy Score (KFold=5) =>\",acc_cv,\"=> %.3f\"%acc_cv.mean())#,roc_auc_score(y_true, y_scores))\n",
        "\n",
        "acc_cv = cross_val_score(svm, X_22captors, y, cv=sss)\n",
        "print(\"Accuracy Score (KFold=5) =>\",acc_cv,\"=> %.3f\"%acc_cv.mean())"
      ],
      "execution_count": null,
      "outputs": [
        {
          "output_type": "stream",
          "text": [
            "Accuracy Score (KFold=5) => [0.91111111 0.91944444 0.92916667 0.91666667 0.91527778] => 0.918\n",
            "Accuracy Score (KFold=5) => [0.93888889 0.95833333 0.95694444 0.95555556 0.95277778] => 0.953\n",
            "Accuracy Score (KFold=5) => [0.06805556 0.05       0.07083333 0.05555556 0.05833333] => 0.061\n",
            "Accuracy Score (KFold=5) => [0.91388889 0.93472222 0.94027778 0.93888889 0.93611111] => 0.933\n"
          ],
          "name": "stdout"
        }
      ]
    },
    {
      "cell_type": "markdown",
      "metadata": {
        "id": "Wh7GUgdrgwNN"
      },
      "source": [
        "Recherche des meilleurs hyper-parammètres + crossval : *GridSearchCV*"
      ]
    },
    {
      "cell_type": "code",
      "metadata": {
        "id": "-mb2uFx2oM0L"
      },
      "source": [
        "param_grid_svm = {'C': [0.1, 1, 10, 100, 1000],  \n",
        "              'gamma': [1, 0.1, 0.01, 0.001, 0.0001], \n",
        "              'kernel': ['rbf','linear', 'poly', 'sigmoid'],\n",
        "              'max_iter': [5000]}  \n",
        "CV_svm = GridSearchCV(estimator=svm, param_grid=param_grid_svm, verbose=1, n_jobs=-1, cv= sss)"
      ],
      "execution_count": null,
      "outputs": []
    },
    {
      "cell_type": "code",
      "metadata": {
        "id": "jZ8RGfx_vzTU"
      },
      "source": [
        "CV_svm.fit(X, y)\n",
        "print(CV_svm.best_params_)\n",
        "acc_cv = cross_val_score(CV_svm.best_estimator_, X, y, cv=sss)\n",
        "print(\"Accuracy Score (KFold=5) =>\",acc_cv,\"=> %.3f\"%acc_cv.mean())\n",
        "\n",
        "CV_svm.fit(X_scale, y)\n",
        "print(CV_svm.best_params_)\n",
        "acc_cv = cross_val_score(CV_svm.best_estimator_, X_scale, y, cv=sss)\n",
        "print(\"Accuracy Score (KFold=5) =>\",acc_cv,\"=> %.3f\"%acc_cv.mean())"
      ],
      "execution_count": null,
      "outputs": []
    },
    {
      "cell_type": "code",
      "metadata": {
        "colab": {
          "base_uri": "https://localhost:8080/"
        },
        "id": "TaJwfgQRzs8F",
        "outputId": "0c06ce12-f394-4174-8d86-4d5e6709be73"
      },
      "source": [
        "CV_svm.fit(X_7captors, y)\n",
        "print(CV_svm.best_params_)\n",
        "acc_cv = cross_val_score(CV_svm.best_estimator_, X_7captors, y, cv=sss)\n",
        "print(\"Accuracy Score (KFold=5) =>\",acc_cv,\"=> %.3f\"%acc_cv.mean())\n",
        "\n",
        "CV_svm.fit(X_22captors, y)\n",
        "print(CV_svm.best_params_)\n",
        "acc_cv = cross_val_score(CV_svm.best_estimator_, X_22captors, y, cv=sss)\n",
        "print(\"Accuracy Score (KFold=5) =>\",acc_cv,\"=> %.3f\"%acc_cv.mean())"
      ],
      "execution_count": null,
      "outputs": [
        {
          "output_type": "stream",
          "text": [
            "Fitting 5 folds for each of 100 candidates, totalling 500 fits\n"
          ],
          "name": "stdout"
        },
        {
          "output_type": "stream",
          "text": [
            "[Parallel(n_jobs=-1)]: Using backend LokyBackend with 2 concurrent workers.\n",
            "[Parallel(n_jobs=-1)]: Done  46 tasks      | elapsed:   19.0s\n",
            "[Parallel(n_jobs=-1)]: Done 196 tasks      | elapsed:  1.3min\n",
            "[Parallel(n_jobs=-1)]: Done 446 tasks      | elapsed:  3.4min\n",
            "[Parallel(n_jobs=-1)]: Done 500 out of 500 | elapsed:  3.9min finished\n",
            "/usr/local/lib/python3.6/dist-packages/sklearn/svm/_base.py:231: ConvergenceWarning: Solver terminated early (max_iter=5000).  Consider pre-processing your data with StandardScaler or MinMaxScaler.\n",
            "  % self.max_iter, ConvergenceWarning)\n"
          ],
          "name": "stderr"
        },
        {
          "output_type": "stream",
          "text": [
            "{'C': 10, 'gamma': 1, 'kernel': 'poly', 'max_iter': 5000}\n"
          ],
          "name": "stdout"
        },
        {
          "output_type": "stream",
          "text": [
            "/usr/local/lib/python3.6/dist-packages/sklearn/svm/_base.py:231: ConvergenceWarning: Solver terminated early (max_iter=5000).  Consider pre-processing your data with StandardScaler or MinMaxScaler.\n",
            "  % self.max_iter, ConvergenceWarning)\n",
            "/usr/local/lib/python3.6/dist-packages/sklearn/svm/_base.py:231: ConvergenceWarning: Solver terminated early (max_iter=5000).  Consider pre-processing your data with StandardScaler or MinMaxScaler.\n",
            "  % self.max_iter, ConvergenceWarning)\n",
            "/usr/local/lib/python3.6/dist-packages/sklearn/svm/_base.py:231: ConvergenceWarning: Solver terminated early (max_iter=5000).  Consider pre-processing your data with StandardScaler or MinMaxScaler.\n",
            "  % self.max_iter, ConvergenceWarning)\n",
            "/usr/local/lib/python3.6/dist-packages/sklearn/svm/_base.py:231: ConvergenceWarning: Solver terminated early (max_iter=5000).  Consider pre-processing your data with StandardScaler or MinMaxScaler.\n",
            "  % self.max_iter, ConvergenceWarning)\n",
            "/usr/local/lib/python3.6/dist-packages/sklearn/svm/_base.py:231: ConvergenceWarning: Solver terminated early (max_iter=5000).  Consider pre-processing your data with StandardScaler or MinMaxScaler.\n",
            "  % self.max_iter, ConvergenceWarning)\n",
            "[Parallel(n_jobs=-1)]: Using backend LokyBackend with 2 concurrent workers.\n"
          ],
          "name": "stderr"
        },
        {
          "output_type": "stream",
          "text": [
            "Accuracy Score (KFold=5) => [0.1375     0.15       0.12777778 0.15833333 0.10833333] => 0.136\n",
            "Fitting 5 folds for each of 100 candidates, totalling 500 fits\n"
          ],
          "name": "stdout"
        },
        {
          "output_type": "stream",
          "text": [
            "[Parallel(n_jobs=-1)]: Done  46 tasks      | elapsed:    6.7s\n",
            "[Parallel(n_jobs=-1)]: Done 196 tasks      | elapsed:   25.7s\n",
            "[Parallel(n_jobs=-1)]: Done 446 tasks      | elapsed:   59.5s\n",
            "[Parallel(n_jobs=-1)]: Done 500 out of 500 | elapsed:  1.1min finished\n"
          ],
          "name": "stderr"
        },
        {
          "output_type": "stream",
          "text": [
            "{'C': 10, 'gamma': 0.0001, 'kernel': 'rbf', 'max_iter': 5000}\n",
            "Accuracy Score (KFold=5) => [0.93611111 0.95277778 0.95972222 0.95833333 0.95555556] => 0.953\n"
          ],
          "name": "stdout"
        }
      ]
    },
    {
      "cell_type": "markdown",
      "metadata": {
        "id": "a-Xxa9NJ6d6q"
      },
      "source": [
        "## Modèle simple ensembliste : KNN"
      ]
    },
    {
      "cell_type": "code",
      "metadata": {
        "colab": {
          "base_uri": "https://localhost:8080/"
        },
        "id": "AsOiuY2b6mxH",
        "outputId": "5dfb4935-f20c-49e0-95ca-19b4403ac3f9"
      },
      "source": [
        "acc_cv = cross_val_score(knn, X, y, cv=sss)\n",
        "print(\"Accuracy Score (KFold=5) =>\",acc_cv,\"=> %.3f\"%acc_cv.mean())\n",
        "\n",
        "acc_cv = cross_val_score(knn, X_scale, y, cv=sss)\n",
        "print(\"Accuracy Score (KFold=5) =>\",acc_cv,\"=> %.3f\"%acc_cv.mean())\n",
        "\n",
        "acc_cv = cross_val_score(knn, X_7captors, y, cv=sss)\n",
        "print(\"Accuracy Score (KFold=5) =>\",acc_cv,\"=> %.3f, auc_roc=>\"%acc_cv.mean())#,roc_auc_score(y_true, y_scores))\n",
        "\n",
        "acc_cv = cross_val_score(knn, X_22captors, y, cv=sss)\n",
        "print(\"Accuracy Score (KFold=5) =>\",acc_cv,\"=> %.3f\"%acc_cv.mean())"
      ],
      "execution_count": null,
      "outputs": [
        {
          "output_type": "stream",
          "text": [
            "Accuracy Score (KFold=5) => [0.91666667 0.91805556 0.92638889 0.9125     0.91111111] => 0.917\n",
            "Accuracy Score (KFold=5) => [0.89722222 0.9        0.91388889 0.92083333 0.89305556] => 0.905\n",
            "Accuracy Score (KFold=5) => [0.10694444 0.12361111 0.125      0.10833333 0.12777778] => 0.118, auc_roc=>\n",
            "Accuracy Score (KFold=5) => [0.9125     0.92361111 0.93194444 0.925      0.92361111] => 0.923\n"
          ],
          "name": "stdout"
        }
      ]
    },
    {
      "cell_type": "markdown",
      "metadata": {
        "id": "W4rreTbXeitu"
      },
      "source": [
        "Recherche des meilleurs hyper-parammètres + crossval : *GridSearchCV*"
      ]
    },
    {
      "cell_type": "code",
      "metadata": {
        "id": "7ODVHBKRhcLe"
      },
      "source": [
        "param_grid_knn = {\r\n",
        "    'n_neighbors' : [3,5,11,19],\r\n",
        "    'weights' : ['uniform','distance'],\r\n",
        "    'metric' : ['euclidian', 'manhattan', 'minkowski']\r\n",
        "}\r\n",
        "CV_knn = GridSearchCV(estimator=knn, param_grid=param_grid_knn, verbose=1, n_jobs=-1, cv= sss)"
      ],
      "execution_count": null,
      "outputs": []
    },
    {
      "cell_type": "code",
      "metadata": {
        "colab": {
          "base_uri": "https://localhost:8080/"
        },
        "id": "IGcWgA_cARA6",
        "outputId": "8e17458b-4623-4096-b633-8fe5efd48509"
      },
      "source": [
        "CV_knn.fit(X, y)\n",
        "print(CV_knn.best_params_)\n",
        "acc_cv = cross_val_score(CV_knn.best_estimator_, X, y, cv=sss)\n",
        "print(\"Accuracy Score (KFold=5) =>\",acc_cv,\"=> %.3f\"%acc_cv.mean())\n",
        "\n",
        "CV_knn.fit(X_scale, y)\n",
        "print(CV_knn.best_params_)\n",
        "acc_cv = cross_val_score(CV_knn.best_estimator_, X_scale, y, cv=sss)\n",
        "print(\"Accuracy Score (KFold=5) =>\",acc_cv,\"=> %.3f\"%acc_cv.mean())\n",
        "\n",
        "CV_knn.fit(X_7captors, y)\n",
        "print(CV_knn.best_params_)\n",
        "acc_cv = cross_val_score(CV_knn.best_estimator_, X_7captors, y, cv=sss)\n",
        "print(\"Accuracy Score (KFold=5) =>\",acc_cv,\"=> %.3f\"%acc_cv.mean())\n",
        "\n",
        "CV_knn.fit(X_22captors, y)\n",
        "print(CV_knn.best_params_)\n",
        "acc_cv = cross_val_score(CV_knn.best_estimator_, X_22captors, y, cv=sss)\n",
        "print(\"Accuracy Score (KFold=5) =>\",acc_cv,\"=> %.3f\"%acc_cv.mean())"
      ],
      "execution_count": null,
      "outputs": [
        {
          "output_type": "stream",
          "text": [
            "Fitting 5 folds for each of 24 candidates, totalling 120 fits\n"
          ],
          "name": "stdout"
        },
        {
          "output_type": "stream",
          "text": [
            "[Parallel(n_jobs=-1)]: Using backend LokyBackend with 2 concurrent workers.\n",
            "[Parallel(n_jobs=-1)]: Done 120 out of 120 | elapsed:    4.0s finished\n"
          ],
          "name": "stderr"
        },
        {
          "output_type": "stream",
          "text": [
            "{'metric': 'manhattan', 'n_neighbors': 3, 'weights': 'distance'}\n",
            "Accuracy Score (KFold=5) => [0.92638889 0.93888889 0.94305556 0.92638889 0.93333333] => 0.934\n",
            "Fitting 5 folds for each of 24 candidates, totalling 120 fits\n"
          ],
          "name": "stdout"
        },
        {
          "output_type": "stream",
          "text": [
            "[Parallel(n_jobs=-1)]: Using backend LokyBackend with 2 concurrent workers.\n",
            "[Parallel(n_jobs=-1)]: Done 120 out of 120 | elapsed:    4.6s finished\n"
          ],
          "name": "stderr"
        },
        {
          "output_type": "stream",
          "text": [
            "{'metric': 'manhattan', 'n_neighbors': 3, 'weights': 'distance'}\n",
            "Accuracy Score (KFold=5) => [0.93333333 0.92777778 0.93888889 0.94166667 0.9375    ] => 0.936\n",
            "Fitting 5 folds for each of 24 candidates, totalling 120 fits\n"
          ],
          "name": "stdout"
        },
        {
          "output_type": "stream",
          "text": [
            "[Parallel(n_jobs=-1)]: Using backend LokyBackend with 2 concurrent workers.\n",
            "[Parallel(n_jobs=-1)]: Done 120 out of 120 | elapsed:    1.2s finished\n",
            "[Parallel(n_jobs=-1)]: Using backend LokyBackend with 2 concurrent workers.\n"
          ],
          "name": "stderr"
        },
        {
          "output_type": "stream",
          "text": [
            "{'metric': 'manhattan', 'n_neighbors': 3, 'weights': 'distance'}\n",
            "Accuracy Score (KFold=5) => [0.11944444 0.10694444 0.14444444 0.11527778 0.13194444] => 0.124\n",
            "Fitting 5 folds for each of 24 candidates, totalling 120 fits\n"
          ],
          "name": "stdout"
        },
        {
          "output_type": "stream",
          "text": [
            "[Parallel(n_jobs=-1)]: Done 120 out of 120 | elapsed:    3.2s finished\n"
          ],
          "name": "stderr"
        },
        {
          "output_type": "stream",
          "text": [
            "{'metric': 'manhattan', 'n_neighbors': 3, 'weights': 'distance'}\n",
            "Accuracy Score (KFold=5) => [0.92638889 0.94305556 0.94305556 0.92222222 0.92916667] => 0.933\n"
          ],
          "name": "stdout"
        }
      ]
    },
    {
      "cell_type": "code",
      "metadata": {
        "colab": {
          "base_uri": "https://localhost:8080/"
        },
        "id": "IrJLyrNuA1Nb",
        "outputId": "161a0d2a-808a-4cb0-986c-d4a961cd9f91"
      },
      "source": [
        "print(CV_knn.best_params_)\n",
        "print(CV_knn.best_score_)"
      ],
      "execution_count": null,
      "outputs": [
        {
          "output_type": "stream",
          "text": [
            "{'metric': 'manhattan', 'n_neighbors': 3, 'weights': 'distance'}\n",
            "0.9327777777777779\n"
          ],
          "name": "stdout"
        }
      ]
    },
    {
      "cell_type": "markdown",
      "metadata": {
        "id": "_PKjjXIOhNMp"
      },
      "source": [
        "## Modèle simple ensembliste : Random Forest"
      ]
    },
    {
      "cell_type": "code",
      "metadata": {
        "colab": {
          "base_uri": "https://localhost:8080/"
        },
        "id": "74gPGc1ZZ1Ex",
        "outputId": "2b046e1c-0749-42a0-d2d6-87682340ed8c"
      },
      "source": [
        "acc_cv = cross_val_score(random_forest, X, y, cv=sss)\n",
        "print(\"Accuracy Score (KFold=5) =>\",acc_cv,\"=> %.4f\"%acc_cv.mean())\n",
        "\n",
        "acc_cv = cross_val_score(random_forest, X_scale, y, cv=sss)\n",
        "print(\"Accuracy Score (KFold=5) =>\",acc_cv,\"=> %.4f\"%acc_cv.mean())\n",
        "\n",
        "acc_cv = cross_val_score(random_forest, X_7captors, y, cv=sss)\n",
        "print(\"Accuracy Score (KFold=5) =>\",acc_cv,\"=> %.4f\"%acc_cv.mean())\n",
        "\n",
        "acc_cv = cross_val_score(random_forest, X_22captors, y, cv=sss)\n",
        "print(\"Accuracy Score (KFold=5) =>\",acc_cv,\"=> %.4f\"%acc_cv.mean())"
      ],
      "execution_count": null,
      "outputs": [
        {
          "output_type": "stream",
          "text": [
            "Accuracy Score (KFold=5) => [0.94166667 0.95416667 0.96111111 0.95972222 0.96527778] => 0.9564\n",
            "Accuracy Score (KFold=5) => [0.94027778 0.95416667 0.96111111 0.95972222 0.96527778] => 0.9561\n",
            "Accuracy Score (KFold=5) => [0.17638889 0.19305556 0.19444444 0.18055556 0.21388889] => 0.1917\n",
            "Accuracy Score (KFold=5) => [0.93194444 0.94861111 0.95138889 0.94861111 0.95555556] => 0.9472\n"
          ],
          "name": "stdout"
        }
      ]
    },
    {
      "cell_type": "markdown",
      "metadata": {
        "id": "xE7FG8N7esSj"
      },
      "source": [
        "Recherche des meilleurs hyper-parammètres + crossval : *RandomizedSearchCV*"
      ]
    },
    {
      "cell_type": "code",
      "metadata": {
        "id": "OHN1ygDfYd_n"
      },
      "source": [
        "from sklearn.model_selection import RandomizedSearchCV\n",
        "\n",
        "# Number of features to consider at every split\n",
        "max_features = ['auto', 'sqrt', \"log2\"]\n",
        "# Number of trees in random forest\n",
        "n_estimators = [100, 300, 500, 800, 1200]\n",
        "# Maximum number of levels in tree\n",
        "max_depth = [5, 8, 15, 25, 30, None]\n",
        "# Minimum number of samples required to split a node\n",
        "min_samples_split = [2, 5, 10, 15, 100]\n",
        "# Minimum number of samples required at each leaf node\n",
        "min_samples_leaf = [1, 2, 5, 10] \n",
        "\n",
        "random_grid = {'max_features': max_features,\n",
        "               'n_estimators': n_estimators,\n",
        "               'max_depth': max_depth,\n",
        "               #'min_samples_split': min_samples_split,\n",
        "               #'min_samples_leaf': min_samples_leaf\n",
        "               }\n",
        "\n",
        "# Random search of parameters, using 3 fold cross validation, \n",
        "# search across 100 different combinations, and use all available cores\n",
        "rf_random = RandomizedSearchCV(estimator = random_forest, param_distributions = random_grid, n_iter = 100, cv = sss, verbose=1, random_state=42, n_jobs = -1)"
      ],
      "execution_count": null,
      "outputs": []
    },
    {
      "cell_type": "code",
      "metadata": {
        "colab": {
          "base_uri": "https://localhost:8080/"
        },
        "id": "RgaFOwpbYh4L",
        "outputId": "f0b7162b-677d-46f9-e37b-8ab8b1f9f4ec"
      },
      "source": [
        "rf_random.fit(X, y)\n",
        "print(rf_random.best_params_)\n",
        "acc_cv = cross_val_score(rf_random.best_estimator_, X, y, cv=sss)\n",
        "print(\"Accuracy Score (KFold=5) =>\",acc_cv,\"=> %.3f\"%acc_cv.mean())\n",
        "\n",
        "rf_random.fit(X_scale, y)\n",
        "print(rf_random.best_params_)\n",
        "acc_cv = cross_val_score(rf_random.best_estimator_, X_scale, y, cv=sss)\n",
        "print(\"Accuracy Score (KFold=5) =>\",acc_cv,\"=> %.3f\"%acc_cv.mean())\n",
        "\n",
        "rf_random.fit(X_7captors, y)\n",
        "print(rf_random.best_params_)\n",
        "acc_cv = cross_val_score(rf_random.best_estimator_, X_7captors, y, cv=sss)\n",
        "print(\"Accuracy Score (KFold=5) =>\",acc_cv,\"=> %.3f\"%acc_cv.mean())\n",
        "\n",
        "rf_random.fit(X_22captors, y)\n",
        "print(rf_random.best_params_)\n",
        "acc_cv = cross_val_score(rf_random.best_estimator_, X_22captors, y, cv=sss)\n",
        "print(\"Accuracy Score (KFold=5) =>\",acc_cv,\"=> %.3f\"%acc_cv.mean())"
      ],
      "execution_count": null,
      "outputs": [
        {
          "output_type": "stream",
          "text": [
            "/usr/local/lib/python3.6/dist-packages/sklearn/model_selection/_search.py:281: UserWarning: The total space of parameters 90 is smaller than n_iter=100. Running 90 iterations. For exhaustive searches, use GridSearchCV.\n",
            "  % (grid_size, self.n_iter, grid_size), UserWarning)\n",
            "[Parallel(n_jobs=-1)]: Using backend LokyBackend with 2 concurrent workers.\n"
          ],
          "name": "stderr"
        },
        {
          "output_type": "stream",
          "text": [
            "Fitting 5 folds for each of 90 candidates, totalling 450 fits\n"
          ],
          "name": "stdout"
        },
        {
          "output_type": "stream",
          "text": [
            "[Parallel(n_jobs=-1)]: Done  46 tasks      | elapsed:  1.2min\n",
            "[Parallel(n_jobs=-1)]: Done 196 tasks      | elapsed:  6.7min\n",
            "[Parallel(n_jobs=-1)]: Done 446 tasks      | elapsed: 16.8min\n",
            "[Parallel(n_jobs=-1)]: Done 450 out of 450 | elapsed: 17.1min finished\n"
          ],
          "name": "stderr"
        },
        {
          "output_type": "stream",
          "text": [
            "{'n_estimators': 300, 'max_features': 'auto', 'max_depth': 15}\n",
            "Accuracy Score (KFold=5) => [0.94583333 0.96111111 0.96111111 0.95972222 0.96527778] => 0.959\n",
            "Fitting 5 folds for each of 90 candidates, totalling 450 fits\n"
          ],
          "name": "stdout"
        },
        {
          "output_type": "stream",
          "text": [
            "/usr/local/lib/python3.6/dist-packages/sklearn/model_selection/_search.py:281: UserWarning: The total space of parameters 90 is smaller than n_iter=100. Running 90 iterations. For exhaustive searches, use GridSearchCV.\n",
            "  % (grid_size, self.n_iter, grid_size), UserWarning)\n",
            "[Parallel(n_jobs=-1)]: Using backend LokyBackend with 2 concurrent workers.\n",
            "[Parallel(n_jobs=-1)]: Done  46 tasks      | elapsed:  1.2min\n",
            "[Parallel(n_jobs=-1)]: Done 196 tasks      | elapsed:  6.6min\n",
            "[Parallel(n_jobs=-1)]: Done 446 tasks      | elapsed: 16.8min\n",
            "[Parallel(n_jobs=-1)]: Done 450 out of 450 | elapsed: 17.1min finished\n"
          ],
          "name": "stderr"
        },
        {
          "output_type": "stream",
          "text": [
            "{'n_estimators': 300, 'max_features': 'auto', 'max_depth': 15}\n",
            "Accuracy Score (KFold=5) => [0.94583333 0.96111111 0.96111111 0.95833333 0.96527778] => 0.958\n",
            "Fitting 5 folds for each of 90 candidates, totalling 450 fits\n"
          ],
          "name": "stdout"
        },
        {
          "output_type": "stream",
          "text": [
            "/usr/local/lib/python3.6/dist-packages/sklearn/model_selection/_search.py:281: UserWarning: The total space of parameters 90 is smaller than n_iter=100. Running 90 iterations. For exhaustive searches, use GridSearchCV.\n",
            "  % (grid_size, self.n_iter, grid_size), UserWarning)\n",
            "[Parallel(n_jobs=-1)]: Using backend LokyBackend with 2 concurrent workers.\n",
            "[Parallel(n_jobs=-1)]: Done  46 tasks      | elapsed:   55.5s\n",
            "/usr/local/lib/python3.6/dist-packages/joblib/externals/loky/process_executor.py:691: UserWarning: A worker stopped while some jobs were given to the executor. This can be caused by a too short worker timeout or by a memory leak.\n",
            "  \"timeout or by a memory leak.\", UserWarning\n",
            "[Parallel(n_jobs=-1)]: Done 196 tasks      | elapsed:  5.3min\n",
            "[Parallel(n_jobs=-1)]: Done 446 tasks      | elapsed: 15.8min\n",
            "[Parallel(n_jobs=-1)]: Done 450 out of 450 | elapsed: 16.1min finished\n"
          ],
          "name": "stderr"
        },
        {
          "output_type": "stream",
          "text": [
            "{'n_estimators': 500, 'max_features': 'auto', 'max_depth': 30}\n",
            "Accuracy Score (KFold=5) => [0.18333333 0.18888889 0.19166667 0.18055556 0.21388889] => 0.192\n",
            "Fitting 5 folds for each of 90 candidates, totalling 450 fits\n"
          ],
          "name": "stdout"
        },
        {
          "output_type": "stream",
          "text": [
            "/usr/local/lib/python3.6/dist-packages/sklearn/model_selection/_search.py:281: UserWarning: The total space of parameters 90 is smaller than n_iter=100. Running 90 iterations. For exhaustive searches, use GridSearchCV.\n",
            "  % (grid_size, self.n_iter, grid_size), UserWarning)\n",
            "[Parallel(n_jobs=-1)]: Using backend LokyBackend with 2 concurrent workers.\n",
            "[Parallel(n_jobs=-1)]: Done  46 tasks      | elapsed:  1.1min\n",
            "[Parallel(n_jobs=-1)]: Done 196 tasks      | elapsed:  5.7min\n",
            "[Parallel(n_jobs=-1)]: Done 446 tasks      | elapsed: 14.5min\n",
            "[Parallel(n_jobs=-1)]: Done 450 out of 450 | elapsed: 14.8min finished\n"
          ],
          "name": "stderr"
        },
        {
          "output_type": "stream",
          "text": [
            "{'n_estimators': 300, 'max_features': 'auto', 'max_depth': 25}\n",
            "Accuracy Score (KFold=5) => [0.93194444 0.94861111 0.95138889 0.94861111 0.95694444] => 0.948\n"
          ],
          "name": "stdout"
        }
      ]
    },
    {
      "cell_type": "markdown",
      "metadata": {
        "id": "ljGRU1TeExQg"
      },
      "source": [
        "# Protocole expérimental : Custom Cross Validation\n"
      ]
    },
    {
      "cell_type": "code",
      "metadata": {
        "id": "7urH7Tb-lv-q"
      },
      "source": [
        "def split_x_y(users, input, output) :\n",
        "    ids = np.where(user_data == users[0])[0]\n",
        "    for i in range(1,len(users)) :\n",
        "        ids = np.concatenate((ids,np.where(user_data == users[i])[0]))\n",
        "    return input[ids], output[ids] "
      ],
      "execution_count": null,
      "outputs": []
    },
    {
      "cell_type": "code",
      "metadata": {
        "colab": {
          "base_uri": "https://localhost:8080/"
        },
        "id": "5gNGCHjZoud1",
        "outputId": "4ddae903-6da0-4eea-c7d1-8c3e57b84b5a"
      },
      "source": [
        "t = (1,2)\n",
        "set(range(1,9)) - {t[0],t[1]}"
      ],
      "execution_count": null,
      "outputs": [
        {
          "output_type": "execute_result",
          "data": {
            "text/plain": [
              "{3, 4, 5, 6, 7, 8}"
            ]
          },
          "metadata": {
            "tags": []
          },
          "execution_count": 20
        }
      ]
    },
    {
      "cell_type": "code",
      "metadata": {
        "id": "wr7PqSM8sv6f"
      },
      "source": [
        "def custom_crossvalidation(model, dataX, dataY, type_fold) :\n",
        "  set_users = set(range(1,9))\n",
        "  users = list(range(1,9))\n",
        "  if type_fold == \"singleton\" :\n",
        "    list_users = users\n",
        "  else : \n",
        "    list_users = [(users[p1], users[p2]) for p1 in range(len(users)) for p2 in range(p1+1,len(users))]\n",
        "\n",
        "  score_custom_crossval = []\n",
        "\n",
        "  for u in list_users :\n",
        "    if type_fold == \"singleton\" :\n",
        "      train_x, train_y = split_x_y(list(set_users - {u}), dataX, dataY)\n",
        "      test_x, test_y = split_x_y([u], dataX, dataY)\n",
        "      print(\"Train user : \", set_users - {u}, \"Test user : \", u)\n",
        "      print(train_x.shape,train_y.shape, test_x.shape, test_y.shape)\n",
        "    else :\n",
        "      train_x, train_y = split_x_y(list(set_users - {u[0],u[1]}), dataX, dataY)\n",
        "      test_x, test_y = split_x_y(u, dataX, dataY)\n",
        "      print(\"Train user : \", set_users - {u[0],u[1]}, \"Test user : \", u)\n",
        "\n",
        "    model.fit(train_x,train_y)\n",
        "\n",
        "    s = model.score(test_x, test_y)\n",
        "    print(\"Score = \",s)\n",
        "\n",
        "    score_custom_crossval.append(s)\n",
        "\n",
        "\n",
        "  return sum(score_custom_crossval)/len(score_custom_crossval)"
      ],
      "execution_count": null,
      "outputs": []
    },
    {
      "cell_type": "markdown",
      "metadata": {
        "id": "Duz75X5YssdV"
      },
      "source": [
        "### **Custom Cross validation** : 7 users train // 1 user test"
      ]
    },
    {
      "cell_type": "code",
      "metadata": {
        "colab": {
          "base_uri": "https://localhost:8080/"
        },
        "id": "e8kFKwXSywji",
        "outputId": "868e1528-4601-4803-86e7-cb076440385c"
      },
      "source": [
        "print(custom_crossvalidation(RandomForestClassifier(random_state=42,n_estimators=300,max_depth=15),X,y,\"singleton\"))"
      ],
      "execution_count": null,
      "outputs": [
        {
          "output_type": "stream",
          "text": [
            "Train user :  {2, 3, 4, 5, 6, 7, 8} Test user :  1\n",
            "(1800, 29) (1800,) (600, 29) (600,)\n",
            "Score =  0.8683333333333333\n",
            "Train user :  {1, 3, 4, 5, 6, 7, 8} Test user :  2\n",
            "(1800, 29) (1800,) (600, 29) (600,)\n",
            "Score =  0.9083333333333333\n",
            "Train user :  {1, 2, 4, 5, 6, 7, 8} Test user :  3\n",
            "(2040, 29) (2040,) (360, 29) (360,)\n",
            "Score =  0.9111111111111111\n",
            "Train user :  {1, 2, 3, 5, 6, 7, 8} Test user :  4\n",
            "(2160, 29) (2160,) (240, 29) (240,)\n",
            "Score =  0.95\n",
            "Train user :  {1, 2, 3, 4, 6, 7, 8} Test user :  5\n",
            "(2160, 29) (2160,) (240, 29) (240,)\n",
            "Score =  0.9375\n",
            "Train user :  {1, 2, 3, 4, 5, 7, 8} Test user :  6\n",
            "(2280, 29) (2280,) (120, 29) (120,)\n",
            "Score =  0.975\n",
            "Train user :  {1, 2, 3, 4, 5, 6, 8} Test user :  7\n",
            "(2280, 29) (2280,) (120, 29) (120,)\n",
            "Score =  0.925\n",
            "Train user :  {1, 2, 3, 4, 5, 6, 7} Test user :  8\n",
            "(2280, 29) (2280,) (120, 29) (120,)\n",
            "Score =  0.925\n",
            "0.9250347222222222\n"
          ],
          "name": "stdout"
        }
      ]
    },
    {
      "cell_type": "code",
      "metadata": {
        "colab": {
          "base_uri": "https://localhost:8080/"
        },
        "id": "HR0XNanlFy2G",
        "outputId": "bc22e424-c3f1-41cd-bf04-6fbdfc0c0b20"
      },
      "source": [
        "print(custom_crossvalidation(RandomForestClassifier(random_state=42,n_estimators=300,max_depth=15),X,y,\"pair\"))"
      ],
      "execution_count": null,
      "outputs": [
        {
          "output_type": "stream",
          "text": [
            "Train user :  {3, 4, 5, 6, 7, 8} Test user :  (1, 2)\n",
            "Score =  0.8058333333333333\n",
            "Train user :  {2, 4, 5, 6, 7, 8} Test user :  (1, 3)\n",
            "Score =  0.878125\n",
            "Train user :  {2, 3, 5, 6, 7, 8} Test user :  (1, 4)\n",
            "Score =  0.8797619047619047\n",
            "Train user :  {2, 3, 4, 6, 7, 8} Test user :  (1, 5)\n",
            "Score =  0.888095238095238\n",
            "Train user :  {2, 3, 4, 5, 7, 8} Test user :  (1, 6)\n",
            "Score =  0.8861111111111111\n",
            "Train user :  {2, 3, 4, 5, 6, 8} Test user :  (1, 7)\n",
            "Score =  0.875\n",
            "Train user :  {2, 3, 4, 5, 6, 7} Test user :  (1, 8)\n",
            "Score =  0.875\n",
            "Train user :  {1, 4, 5, 6, 7, 8} Test user :  (2, 3)\n",
            "Score =  0.9229166666666667\n",
            "Train user :  {1, 3, 5, 6, 7, 8} Test user :  (2, 4)\n",
            "Score =  0.9345238095238095\n",
            "Train user :  {1, 3, 4, 6, 7, 8} Test user :  (2, 5)\n",
            "Score =  0.925\n",
            "Train user :  {1, 3, 4, 5, 7, 8} Test user :  (2, 6)\n",
            "Score =  0.9236111111111112\n",
            "Train user :  {1, 3, 4, 5, 6, 8} Test user :  (2, 7)\n",
            "Score =  0.9069444444444444\n",
            "Train user :  {1, 3, 4, 5, 6, 7} Test user :  (2, 8)\n",
            "Score =  0.9055555555555556\n",
            "Train user :  {1, 2, 5, 6, 7, 8} Test user :  (3, 4)\n",
            "Score =  0.93\n",
            "Train user :  {1, 2, 4, 6, 7, 8} Test user :  (3, 5)\n",
            "Score =  0.9283333333333333\n",
            "Train user :  {1, 2, 4, 5, 7, 8} Test user :  (3, 6)\n",
            "Score =  0.9166666666666666\n",
            "Train user :  {1, 2, 4, 5, 6, 8} Test user :  (3, 7)\n",
            "Score =  0.9145833333333333\n",
            "Train user :  {1, 2, 4, 5, 6, 7} Test user :  (3, 8)\n",
            "Score =  0.9125\n",
            "Train user :  {1, 2, 3, 6, 7, 8} Test user :  (4, 5)\n",
            "Score =  0.95625\n",
            "Train user :  {1, 2, 3, 5, 7, 8} Test user :  (4, 6)\n",
            "Score =  0.9638888888888889\n",
            "Train user :  {1, 2, 3, 5, 6, 8} Test user :  (4, 7)\n",
            "Score =  0.9361111111111111\n",
            "Train user :  {1, 2, 3, 5, 6, 7} Test user :  (4, 8)\n",
            "Score =  0.9583333333333334\n",
            "Train user :  {1, 2, 3, 4, 7, 8} Test user :  (5, 6)\n",
            "Score =  0.9527777777777777\n",
            "Train user :  {1, 2, 3, 4, 6, 8} Test user :  (5, 7)\n",
            "Score =  0.9305555555555556\n",
            "Train user :  {1, 2, 3, 4, 6, 7} Test user :  (5, 8)\n",
            "Score =  0.9166666666666666\n",
            "Train user :  {1, 2, 3, 4, 5, 8} Test user :  (6, 7)\n",
            "Score =  0.9375\n",
            "Train user :  {1, 2, 3, 4, 5, 7} Test user :  (6, 8)\n",
            "Score =  0.9458333333333333\n",
            "Train user :  {1, 2, 3, 4, 5, 6} Test user :  (7, 8)\n",
            "Score =  0.9375\n",
            "0.9158563633786848\n"
          ],
          "name": "stdout"
        }
      ]
    },
    {
      "cell_type": "code",
      "metadata": {
        "colab": {
          "base_uri": "https://localhost:8080/"
        },
        "id": "tQKim36DEpBt",
        "outputId": "8288a57f-793f-44d6-955d-2ad78bd55524"
      },
      "source": [
        "print(custom_crossvalidation(random_forest,X,y,\"singleton\"))"
      ],
      "execution_count": null,
      "outputs": [
        {
          "output_type": "stream",
          "text": [
            "Train user :  {2, 3, 4, 5, 6, 7, 8} Test user :  1\n",
            "(1800, 29) (1800,) (600, 29) (600,)\n",
            "Score =  0.87\n",
            "Train user :  {1, 3, 4, 5, 6, 7, 8} Test user :  2\n",
            "(1800, 29) (1800,) (600, 29) (600,)\n",
            "Score =  0.9133333333333333\n",
            "Train user :  {1, 2, 4, 5, 6, 7, 8} Test user :  3\n",
            "(2040, 29) (2040,) (360, 29) (360,)\n",
            "Score =  0.9194444444444444\n",
            "Train user :  {1, 2, 3, 5, 6, 7, 8} Test user :  4\n",
            "(2160, 29) (2160,) (240, 29) (240,)\n",
            "Score =  0.95\n",
            "Train user :  {1, 2, 3, 4, 6, 7, 8} Test user :  5\n",
            "(2160, 29) (2160,) (240, 29) (240,)\n",
            "Score =  0.9416666666666667\n",
            "Train user :  {1, 2, 3, 4, 5, 7, 8} Test user :  6\n",
            "(2280, 29) (2280,) (120, 29) (120,)\n",
            "Score =  0.9583333333333334\n",
            "Train user :  {1, 2, 3, 4, 5, 6, 8} Test user :  7\n",
            "(2280, 29) (2280,) (120, 29) (120,)\n",
            "Score =  0.9333333333333333\n",
            "Train user :  {1, 2, 3, 4, 5, 6, 7} Test user :  8\n",
            "(2280, 29) (2280,) (120, 29) (120,)\n",
            "Score =  0.925\n",
            "0.9263888888888888\n"
          ],
          "name": "stdout"
        }
      ]
    },
    {
      "cell_type": "code",
      "metadata": {
        "id": "TH_Iu3t4F5JD"
      },
      "source": [
        "print(custom_crossvalidation(random_forest,X,y,\"pair\"))"
      ],
      "execution_count": null,
      "outputs": []
    },
    {
      "cell_type": "code",
      "metadata": {
        "colab": {
          "base_uri": "https://localhost:8080/"
        },
        "id": "v-yulgeVz6Il",
        "outputId": "a61579da-61b9-4c6e-ef94-5c12a329ee03"
      },
      "source": [
        "print(custom_crossvalidation(DecisionTreeClassifier(max_depth=10),X,y,\"singleton\"))"
      ],
      "execution_count": null,
      "outputs": [
        {
          "output_type": "stream",
          "text": [
            "Train user :  {2, 3, 4, 5, 6, 7, 8} Test user :  1\n",
            "(1800, 29) (1800,) (600, 29) (600,)\n",
            "Score =  0.7483333333333333\n",
            "Train user :  {1, 3, 4, 5, 6, 7, 8} Test user :  2\n",
            "(1800, 29) (1800,) (600, 29) (600,)\n",
            "Score =  0.83\n",
            "Train user :  {1, 2, 4, 5, 6, 7, 8} Test user :  3\n",
            "(2040, 29) (2040,) (360, 29) (360,)\n",
            "Score =  0.8333333333333334\n",
            "Train user :  {1, 2, 3, 5, 6, 7, 8} Test user :  4\n",
            "(2160, 29) (2160,) (240, 29) (240,)\n",
            "Score =  0.8958333333333334\n",
            "Train user :  {1, 2, 3, 4, 6, 7, 8} Test user :  5\n",
            "(2160, 29) (2160,) (240, 29) (240,)\n",
            "Score =  0.7833333333333333\n",
            "Train user :  {1, 2, 3, 4, 5, 7, 8} Test user :  6\n",
            "(2280, 29) (2280,) (120, 29) (120,)\n",
            "Score =  0.9333333333333333\n",
            "Train user :  {1, 2, 3, 4, 5, 6, 8} Test user :  7\n",
            "(2280, 29) (2280,) (120, 29) (120,)\n",
            "Score =  0.875\n",
            "Train user :  {1, 2, 3, 4, 5, 6, 7} Test user :  8\n",
            "(2280, 29) (2280,) (120, 29) (120,)\n",
            "Score =  0.7083333333333334\n",
            "0.8259375\n"
          ],
          "name": "stdout"
        }
      ]
    },
    {
      "cell_type": "code",
      "metadata": {
        "colab": {
          "base_uri": "https://localhost:8080/"
        },
        "id": "NScCH2bK1Cg9",
        "outputId": "dbb37744-9017-49c5-d674-e1999b587d99"
      },
      "source": [
        "print(custom_crossvalidation(mlp,X_scale,y,\"singleton\"))"
      ],
      "execution_count": null,
      "outputs": [
        {
          "output_type": "stream",
          "text": [
            "Train user :  {2, 3, 4, 5, 6, 7, 8} Test user :  1\n"
          ],
          "name": "stdout"
        },
        {
          "output_type": "stream",
          "text": [
            "/usr/local/lib/python3.6/dist-packages/sklearn/neural_network/_multilayer_perceptron.py:571: ConvergenceWarning: Stochastic Optimizer: Maximum iterations (200) reached and the optimization hasn't converged yet.\n",
            "  % self.max_iter, ConvergenceWarning)\n"
          ],
          "name": "stderr"
        },
        {
          "output_type": "stream",
          "text": [
            "Score =  0.8033333333333333\n",
            "Train user :  {1, 3, 4, 5, 6, 7, 8} Test user :  2\n"
          ],
          "name": "stdout"
        },
        {
          "output_type": "stream",
          "text": [
            "/usr/local/lib/python3.6/dist-packages/sklearn/neural_network/_multilayer_perceptron.py:571: ConvergenceWarning: Stochastic Optimizer: Maximum iterations (200) reached and the optimization hasn't converged yet.\n",
            "  % self.max_iter, ConvergenceWarning)\n"
          ],
          "name": "stderr"
        },
        {
          "output_type": "stream",
          "text": [
            "Score =  0.855\n",
            "Train user :  {1, 2, 4, 5, 6, 7, 8} Test user :  3\n"
          ],
          "name": "stdout"
        },
        {
          "output_type": "stream",
          "text": [
            "/usr/local/lib/python3.6/dist-packages/sklearn/neural_network/_multilayer_perceptron.py:571: ConvergenceWarning: Stochastic Optimizer: Maximum iterations (200) reached and the optimization hasn't converged yet.\n",
            "  % self.max_iter, ConvergenceWarning)\n"
          ],
          "name": "stderr"
        },
        {
          "output_type": "stream",
          "text": [
            "Score =  0.7166666666666667\n",
            "Train user :  {1, 2, 3, 5, 6, 7, 8} Test user :  4\n"
          ],
          "name": "stdout"
        },
        {
          "output_type": "stream",
          "text": [
            "/usr/local/lib/python3.6/dist-packages/sklearn/neural_network/_multilayer_perceptron.py:571: ConvergenceWarning: Stochastic Optimizer: Maximum iterations (200) reached and the optimization hasn't converged yet.\n",
            "  % self.max_iter, ConvergenceWarning)\n"
          ],
          "name": "stderr"
        },
        {
          "output_type": "stream",
          "text": [
            "Score =  0.5541666666666667\n",
            "Train user :  {1, 2, 3, 4, 6, 7, 8} Test user :  5\n"
          ],
          "name": "stdout"
        },
        {
          "output_type": "stream",
          "text": [
            "/usr/local/lib/python3.6/dist-packages/sklearn/neural_network/_multilayer_perceptron.py:571: ConvergenceWarning: Stochastic Optimizer: Maximum iterations (200) reached and the optimization hasn't converged yet.\n",
            "  % self.max_iter, ConvergenceWarning)\n"
          ],
          "name": "stderr"
        },
        {
          "output_type": "stream",
          "text": [
            "Score =  0.6083333333333333\n",
            "Train user :  {1, 2, 3, 4, 5, 7, 8} Test user :  6\n"
          ],
          "name": "stdout"
        },
        {
          "output_type": "stream",
          "text": [
            "/usr/local/lib/python3.6/dist-packages/sklearn/neural_network/_multilayer_perceptron.py:571: ConvergenceWarning: Stochastic Optimizer: Maximum iterations (200) reached and the optimization hasn't converged yet.\n",
            "  % self.max_iter, ConvergenceWarning)\n"
          ],
          "name": "stderr"
        },
        {
          "output_type": "stream",
          "text": [
            "Score =  0.7416666666666667\n",
            "Train user :  {1, 2, 3, 4, 5, 6, 8} Test user :  7\n"
          ],
          "name": "stdout"
        },
        {
          "output_type": "stream",
          "text": [
            "/usr/local/lib/python3.6/dist-packages/sklearn/neural_network/_multilayer_perceptron.py:571: ConvergenceWarning: Stochastic Optimizer: Maximum iterations (200) reached and the optimization hasn't converged yet.\n",
            "  % self.max_iter, ConvergenceWarning)\n"
          ],
          "name": "stderr"
        },
        {
          "output_type": "stream",
          "text": [
            "Score =  0.4583333333333333\n",
            "Train user :  {1, 2, 3, 4, 5, 6, 7} Test user :  8\n",
            "Score =  0.575\n",
            "0.6640625\n"
          ],
          "name": "stdout"
        },
        {
          "output_type": "stream",
          "text": [
            "/usr/local/lib/python3.6/dist-packages/sklearn/neural_network/_multilayer_perceptron.py:571: ConvergenceWarning: Stochastic Optimizer: Maximum iterations (200) reached and the optimization hasn't converged yet.\n",
            "  % self.max_iter, ConvergenceWarning)\n"
          ],
          "name": "stderr"
        }
      ]
    },
    {
      "cell_type": "markdown",
      "metadata": {
        "id": "mOfAkiCmFnUB"
      },
      "source": [
        "**Custom Cross validation**  : 6 users train // 2 user test\n",
        "\n",
        "source pour faire les paires : https://stackoverflow.com/questions/942543/operation-on-every-pair-of-element-in-a-list"
      ]
    },
    {
      "cell_type": "code",
      "metadata": {
        "colab": {
          "base_uri": "https://localhost:8080/"
        },
        "id": "lfIjpNHkznvG",
        "outputId": "181d5154-c0a0-41ee-dc34-52984b144b13"
      },
      "source": [
        "print(custom_crossvalidation(random_forest,X,y,\"pair\"))"
      ],
      "execution_count": null,
      "outputs": [
        {
          "output_type": "stream",
          "text": [
            "Train user :  {3, 4, 5, 6, 7, 8} Test user :  (1, 2)\n",
            "Score =  0.8\n",
            "Train user :  {2, 4, 5, 6, 7, 8} Test user :  (1, 3)\n",
            "Score =  0.8760416666666667\n",
            "Train user :  {2, 3, 5, 6, 7, 8} Test user :  (1, 4)\n",
            "Score =  0.8714285714285714\n",
            "Train user :  {2, 3, 4, 6, 7, 8} Test user :  (1, 5)\n",
            "Score =  0.888095238095238\n",
            "Train user :  {2, 3, 4, 5, 7, 8} Test user :  (1, 6)\n",
            "Score =  0.8916666666666667\n",
            "Train user :  {2, 3, 4, 5, 6, 8} Test user :  (1, 7)\n",
            "Score =  0.8708333333333333\n",
            "Train user :  {2, 3, 4, 5, 6, 7} Test user :  (1, 8)\n",
            "Score =  0.8763888888888889\n",
            "Train user :  {1, 4, 5, 6, 7, 8} Test user :  (2, 3)\n",
            "Score =  0.9229166666666667\n",
            "Train user :  {1, 3, 5, 6, 7, 8} Test user :  (2, 4)\n",
            "Score =  0.9369047619047619\n",
            "Train user :  {1, 3, 4, 6, 7, 8} Test user :  (2, 5)\n",
            "Score =  0.919047619047619\n",
            "Train user :  {1, 3, 4, 5, 7, 8} Test user :  (2, 6)\n",
            "Score =  0.9277777777777778\n",
            "Train user :  {1, 3, 4, 5, 6, 8} Test user :  (2, 7)\n",
            "Score =  0.9180555555555555\n",
            "Train user :  {1, 3, 4, 5, 6, 7} Test user :  (2, 8)\n",
            "Score =  0.9083333333333333\n",
            "Train user :  {1, 2, 5, 6, 7, 8} Test user :  (3, 4)\n",
            "Score =  0.9333333333333333\n",
            "Train user :  {1, 2, 4, 6, 7, 8} Test user :  (3, 5)\n",
            "Score =  0.9216666666666666\n",
            "Train user :  {1, 2, 4, 5, 7, 8} Test user :  (3, 6)\n",
            "Score =  0.9125\n",
            "Train user :  {1, 2, 4, 5, 6, 8} Test user :  (3, 7)\n",
            "Score =  0.9083333333333333\n",
            "Train user :  {1, 2, 4, 5, 6, 7} Test user :  (3, 8)\n",
            "Score =  0.91875\n",
            "Train user :  {1, 2, 3, 6, 7, 8} Test user :  (4, 5)\n",
            "Score =  0.9541666666666667\n",
            "Train user :  {1, 2, 3, 5, 7, 8} Test user :  (4, 6)\n",
            "Score =  0.9611111111111111\n",
            "Train user :  {1, 2, 3, 5, 6, 8} Test user :  (4, 7)\n",
            "Score =  0.9444444444444444\n",
            "Train user :  {1, 2, 3, 5, 6, 7} Test user :  (4, 8)\n",
            "Score =  0.9444444444444444\n",
            "Train user :  {1, 2, 3, 4, 7, 8} Test user :  (5, 6)\n",
            "Score =  0.9611111111111111\n",
            "Train user :  {1, 2, 3, 4, 6, 8} Test user :  (5, 7)\n",
            "Score =  0.9277777777777778\n",
            "Train user :  {1, 2, 3, 4, 6, 7} Test user :  (5, 8)\n",
            "Score =  0.9138888888888889\n",
            "Train user :  {1, 2, 3, 4, 5, 8} Test user :  (6, 7)\n",
            "Score =  0.9458333333333333\n",
            "Train user :  {1, 2, 3, 4, 5, 7} Test user :  (6, 8)\n",
            "Score =  0.9541666666666667\n",
            "Train user :  {1, 2, 3, 4, 5, 6} Test user :  (7, 8)\n",
            "Score =  0.9291666666666667\n",
            "0.9156494472789115\n"
          ],
          "name": "stdout"
        }
      ]
    },
    {
      "cell_type": "code",
      "metadata": {
        "id": "QL-e09FRvdrm"
      },
      "source": [
        "param_grid_rf = { \n",
        "    'n_estimators': [200, 500],\n",
        "    'max_features': ['auto', 'sqrt', 'log2'],\n",
        "    'max_depth' : [4,5,6,7,8],\n",
        "    'criterion' :['gini', 'entropy']\n",
        "}\n",
        "\n",
        "param_grid_knn = {\n",
        "    'n_neighbors' : [3,5,11,19],\n",
        "    'weights' : ['uniform','distance'],\n",
        "    'metric' : ['euclidian', 'manhattan', 'minkowski']\n",
        "}"
      ],
      "execution_count": null,
      "outputs": []
    },
    {
      "cell_type": "code",
      "metadata": {
        "colab": {
          "base_uri": "https://localhost:8080/"
        },
        "id": "bdpRfh_U3UjQ",
        "outputId": "59b5563e-8917-4fc4-d67b-2f2f2a66cb33"
      },
      "source": [
        "CV_knn = GridSearchCV(estimator=knn, param_grid=param_grid_knn, verbose=1, n_jobs=-1, cv= sss)\n",
        "CV_knn.fit(X, y)"
      ],
      "execution_count": null,
      "outputs": [
        {
          "output_type": "stream",
          "text": [
            "Fitting 5 folds for each of 24 candidates, totalling 120 fits\n"
          ],
          "name": "stdout"
        },
        {
          "output_type": "stream",
          "text": [
            "[Parallel(n_jobs=-1)]: Using backend LokyBackend with 2 concurrent workers.\n",
            "[Parallel(n_jobs=-1)]: Done 120 out of 120 | elapsed:    4.7s finished\n"
          ],
          "name": "stderr"
        },
        {
          "output_type": "execute_result",
          "data": {
            "text/plain": [
              "GridSearchCV(cv=StratifiedShuffleSplit(n_splits=5, random_state=42, test_size=0.3,\n",
              "            train_size=None),\n",
              "             error_score=nan,\n",
              "             estimator=KNeighborsClassifier(algorithm='auto', leaf_size=30,\n",
              "                                            metric='minkowski',\n",
              "                                            metric_params=None, n_jobs=None,\n",
              "                                            n_neighbors=5, p=2,\n",
              "                                            weights='uniform'),\n",
              "             iid='deprecated', n_jobs=-1,\n",
              "             param_grid={'metric': ['euclidian', 'manhattan', 'minkowski'],\n",
              "                         'n_neighbors': [3, 5, 11, 19],\n",
              "                         'weights': ['uniform', 'distance']},\n",
              "             pre_dispatch='2*n_jobs', refit=True, return_train_score=False,\n",
              "             scoring=None, verbose=1)"
            ]
          },
          "metadata": {
            "tags": []
          },
          "execution_count": 23
        }
      ]
    },
    {
      "cell_type": "code",
      "metadata": {
        "colab": {
          "base_uri": "https://localhost:8080/"
        },
        "id": "E-VOMgfo3p_4",
        "outputId": "47525181-272e-4a39-b650-6851934225df"
      },
      "source": [
        "CV_knn.best_params_"
      ],
      "execution_count": null,
      "outputs": [
        {
          "output_type": "execute_result",
          "data": {
            "text/plain": [
              "{'metric': 'manhattan', 'n_neighbors': 3, 'weights': 'distance'}"
            ]
          },
          "metadata": {
            "tags": []
          },
          "execution_count": 24
        }
      ]
    },
    {
      "cell_type": "code",
      "metadata": {
        "colab": {
          "base_uri": "https://localhost:8080/"
        },
        "id": "iVCaLUms30HK",
        "outputId": "27e68edf-96c1-4aa4-a422-97bf3d270d2d"
      },
      "source": [
        "print(custom_crossvalidation(CV_knn.best_estimator_,X,y,\"singleton\"))"
      ],
      "execution_count": null,
      "outputs": [
        {
          "output_type": "stream",
          "text": [
            "Train user :  {2, 3, 4, 5, 6, 7, 8} Test user :  1\n",
            "(1800, 29) (1800,) (600, 29) (600,)\n",
            "Score =  0.8316666666666667\n",
            "Train user :  {1, 3, 4, 5, 6, 7, 8} Test user :  2\n",
            "(1800, 29) (1800,) (600, 29) (600,)\n",
            "Score =  0.8816666666666667\n",
            "Train user :  {1, 2, 4, 5, 6, 7, 8} Test user :  3\n",
            "(2040, 29) (2040,) (360, 29) (360,)\n",
            "Score =  0.875\n",
            "Train user :  {1, 2, 3, 5, 6, 7, 8} Test user :  4\n",
            "(2160, 29) (2160,) (240, 29) (240,)\n",
            "Score =  0.9291666666666667\n",
            "Train user :  {1, 2, 3, 4, 6, 7, 8} Test user :  5\n",
            "(2160, 29) (2160,) (240, 29) (240,)\n",
            "Score =  0.8625\n",
            "Train user :  {1, 2, 3, 4, 5, 7, 8} Test user :  6\n",
            "(2280, 29) (2280,) (120, 29) (120,)\n",
            "Score =  0.9416666666666667\n",
            "Train user :  {1, 2, 3, 4, 5, 6, 8} Test user :  7\n",
            "(2280, 29) (2280,) (120, 29) (120,)\n",
            "Score =  0.9\n",
            "Train user :  {1, 2, 3, 4, 5, 6, 7} Test user :  8\n",
            "(2280, 29) (2280,) (120, 29) (120,)\n",
            "Score =  0.825\n",
            "0.8808333333333334\n"
          ],
          "name": "stdout"
        }
      ]
    },
    {
      "cell_type": "code",
      "metadata": {
        "colab": {
          "base_uri": "https://localhost:8080/"
        },
        "id": "NhniuDB1wIPK",
        "outputId": "9657b94a-e636-4c12-988e-1a7b73836f8f"
      },
      "source": [
        "CV_rfc = GridSearchCV(estimator=random_forest, param_grid=param_grid_rf,verbose=1, n_jobs=-1, cv= sss)\n",
        "CV_rfc.fit(X, y)"
      ],
      "execution_count": null,
      "outputs": [
        {
          "output_type": "stream",
          "text": [
            "Fitting 5 folds for each of 60 candidates, totalling 300 fits\n"
          ],
          "name": "stdout"
        },
        {
          "output_type": "stream",
          "text": [
            "[Parallel(n_jobs=-1)]: Using backend LokyBackend with 2 concurrent workers.\n",
            "[Parallel(n_jobs=-1)]: Done  46 tasks      | elapsed:   42.4s\n",
            "[Parallel(n_jobs=-1)]: Done 196 tasks      | elapsed:  4.6min\n",
            "[Parallel(n_jobs=-1)]: Done 300 out of 300 | elapsed:  9.5min finished\n"
          ],
          "name": "stderr"
        },
        {
          "output_type": "execute_result",
          "data": {
            "text/plain": [
              "GridSearchCV(cv=StratifiedShuffleSplit(n_splits=5, random_state=42, test_size=0.3,\n",
              "            train_size=None),\n",
              "             error_score=nan,\n",
              "             estimator=RandomForestClassifier(bootstrap=True, ccp_alpha=0.0,\n",
              "                                              class_weight=None,\n",
              "                                              criterion='gini', max_depth=None,\n",
              "                                              max_features='auto',\n",
              "                                              max_leaf_nodes=None,\n",
              "                                              max_samples=None,\n",
              "                                              min_impurity_decrease=0.0,\n",
              "                                              min_impurity_split=None,\n",
              "                                              min_samples_leaf=1...\n",
              "                                              min_weight_fraction_leaf=0.0,\n",
              "                                              n_estimators=100, n_jobs=None,\n",
              "                                              oob_score=False, random_state=42,\n",
              "                                              verbose=0, warm_start=False),\n",
              "             iid='deprecated', n_jobs=-1,\n",
              "             param_grid={'criterion': ['gini', 'entropy'],\n",
              "                         'max_depth': [4, 5, 6, 7, 8],\n",
              "                         'max_features': ['auto', 'sqrt', 'log2'],\n",
              "                         'n_estimators': [200, 500]},\n",
              "             pre_dispatch='2*n_jobs', refit=True, return_train_score=False,\n",
              "             scoring=None, verbose=1)"
            ]
          },
          "metadata": {
            "tags": []
          },
          "execution_count": 41
        }
      ]
    },
    {
      "cell_type": "code",
      "metadata": {
        "colab": {
          "base_uri": "https://localhost:8080/"
        },
        "id": "f7QZKFJXLEm_",
        "outputId": "b9abcc05-0bd2-4b99-b941-03b94b87e07a"
      },
      "source": [
        "print(custom_crossvalidation(CV_rfc.best_estimator_,X,y,\"singleton\"))"
      ],
      "execution_count": null,
      "outputs": [
        {
          "output_type": "stream",
          "text": [
            "Train user :  {2, 3, 4, 5, 6, 7, 8} Test user :  1\n",
            "(1800, 29) (1800,) (600, 29) (600,)\n",
            "Score =  0.8666666666666667\n",
            "Train user :  {1, 3, 4, 5, 6, 7, 8} Test user :  2\n",
            "(1800, 29) (1800,) (600, 29) (600,)\n",
            "Score =  0.9216666666666666\n",
            "Train user :  {1, 2, 4, 5, 6, 7, 8} Test user :  3\n",
            "(2040, 29) (2040,) (360, 29) (360,)\n",
            "Score =  0.9138888888888889\n",
            "Train user :  {1, 2, 3, 5, 6, 7, 8} Test user :  4\n",
            "(2160, 29) (2160,) (240, 29) (240,)\n",
            "Score =  0.95\n",
            "Train user :  {1, 2, 3, 4, 6, 7, 8} Test user :  5\n",
            "(2160, 29) (2160,) (240, 29) (240,)\n",
            "Score =  0.9333333333333333\n",
            "Train user :  {1, 2, 3, 4, 5, 7, 8} Test user :  6\n",
            "(2280, 29) (2280,) (120, 29) (120,)\n",
            "Score =  0.975\n",
            "Train user :  {1, 2, 3, 4, 5, 6, 8} Test user :  7\n",
            "(2280, 29) (2280,) (120, 29) (120,)\n",
            "Score =  0.9333333333333333\n",
            "Train user :  {1, 2, 3, 4, 5, 6, 7} Test user :  8\n",
            "(2280, 29) (2280,) (120, 29) (120,)\n",
            "Score =  0.9166666666666666\n",
            "0.9263194444444445\n"
          ],
          "name": "stdout"
        }
      ]
    },
    {
      "cell_type": "code",
      "metadata": {
        "colab": {
          "base_uri": "https://localhost:8080/"
        },
        "id": "U6yrpcVFNWNe",
        "outputId": "13c46126-f7f1-4ac2-ba20-fc44fe8b7ba3"
      },
      "source": [
        "CV_rfc.best_score_"
      ],
      "execution_count": null,
      "outputs": [
        {
          "output_type": "execute_result",
          "data": {
            "text/plain": [
              "0.9555555555555555"
            ]
          },
          "metadata": {
            "tags": []
          },
          "execution_count": 43
        }
      ]
    }
  ]
}